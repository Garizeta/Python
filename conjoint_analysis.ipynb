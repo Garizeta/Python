{
 "cells": [
  {
   "cell_type": "code",
   "execution_count": 1,
   "metadata": {
    "collapsed": false
   },
   "outputs": [
    {
     "name": "stderr",
     "output_type": "stream",
     "text": [
      "C:\\ProgramData\\Anaconda2\\lib\\site-packages\\sklearn\\cross_validation.py:44: DeprecationWarning: This module was deprecated in version 0.18 in favor of the model_selection module into which all the refactored classes and functions are moved. Also note that the interface of the new CV iterators are different from that of this module. This module will be removed in 0.20.\n",
      "  \"This module will be removed in 0.20.\", DeprecationWarning)\n"
     ]
    }
   ],
   "source": [
    "import pandas as pd\n",
    "import numpy as np\n",
    "from sklearn.cross_validation import train_test_split"
   ]
  },
  {
   "cell_type": "code",
   "execution_count": 67,
   "metadata": {
    "collapsed": false
   },
   "outputs": [],
   "source": [
    "data = pd.read_csv(\"Startup_data.csv\")"
   ]
  },
  {
   "cell_type": "code",
   "execution_count": 68,
   "metadata": {
    "collapsed": false
   },
   "outputs": [
    {
     "data": {
      "text/html": [
       "<div>\n",
       "<table border=\"1\" class=\"dataframe\">\n",
       "  <thead>\n",
       "    <tr style=\"text-align: right;\">\n",
       "      <th></th>\n",
       "      <th>Success</th>\n",
       "      <th>Company_investor_count_seed</th>\n",
       "      <th>Company_investor_count_Angel_VC</th>\n",
       "      <th>Company_cofounders_count</th>\n",
       "      <th>Company_advisors_count</th>\n",
       "      <th>Company_senior_team_count</th>\n",
       "      <th>Company_repeat_investors_count</th>\n",
       "      <th>Founder_university_quality</th>\n",
       "      <th>Founders_Popularity</th>\n",
       "      <th>Founders_fortune1000_company_score</th>\n",
       "      <th>...</th>\n",
       "      <th>Founders_Leadership_skills_score</th>\n",
       "      <th>Founders_Data_Science_skills_score</th>\n",
       "      <th>Founders_Business_Strategy_skills_score</th>\n",
       "      <th>Founders_Product_Management_skills_score</th>\n",
       "      <th>Founders_Sales_skills_score</th>\n",
       "      <th>Founders_Domain_skills_score</th>\n",
       "      <th>Company_competitor_count</th>\n",
       "      <th>Company_1st_investment_time</th>\n",
       "      <th>Company_avg_investment_time</th>\n",
       "      <th>Company_analytics_score</th>\n",
       "    </tr>\n",
       "  </thead>\n",
       "  <tbody>\n",
       "    <tr>\n",
       "      <th>count</th>\n",
       "      <td>234.000000</td>\n",
       "      <td>234.000000</td>\n",
       "      <td>234.000000</td>\n",
       "      <td>234.000000</td>\n",
       "      <td>234.000000</td>\n",
       "      <td>234.000000</td>\n",
       "      <td>234.000000</td>\n",
       "      <td>234.000000</td>\n",
       "      <td>234.000000</td>\n",
       "      <td>234.000000</td>\n",
       "      <td>...</td>\n",
       "      <td>234.000000</td>\n",
       "      <td>234.000000</td>\n",
       "      <td>234.000000</td>\n",
       "      <td>234.000000</td>\n",
       "      <td>234.000000</td>\n",
       "      <td>234.000000</td>\n",
       "      <td>234.000000</td>\n",
       "      <td>234.000000</td>\n",
       "      <td>234.000000</td>\n",
       "      <td>234.000000</td>\n",
       "    </tr>\n",
       "    <tr>\n",
       "      <th>mean</th>\n",
       "      <td>0.495726</td>\n",
       "      <td>1.448718</td>\n",
       "      <td>0.777778</td>\n",
       "      <td>2.072650</td>\n",
       "      <td>1.243590</td>\n",
       "      <td>4.290598</td>\n",
       "      <td>0.760684</td>\n",
       "      <td>1.905983</td>\n",
       "      <td>0.833333</td>\n",
       "      <td>0.272650</td>\n",
       "      <td>...</td>\n",
       "      <td>2.906936</td>\n",
       "      <td>6.362701</td>\n",
       "      <td>10.302821</td>\n",
       "      <td>3.468255</td>\n",
       "      <td>3.319419</td>\n",
       "      <td>4.732593</td>\n",
       "      <td>1.893162</td>\n",
       "      <td>16.705128</td>\n",
       "      <td>11.140988</td>\n",
       "      <td>0.940171</td>\n",
       "    </tr>\n",
       "    <tr>\n",
       "      <th>std</th>\n",
       "      <td>0.501054</td>\n",
       "      <td>2.737347</td>\n",
       "      <td>1.663086</td>\n",
       "      <td>1.160444</td>\n",
       "      <td>2.253386</td>\n",
       "      <td>2.475840</td>\n",
       "      <td>1.399875</td>\n",
       "      <td>1.791649</td>\n",
       "      <td>0.373477</td>\n",
       "      <td>0.382026</td>\n",
       "      <td>...</td>\n",
       "      <td>5.531376</td>\n",
       "      <td>10.133789</td>\n",
       "      <td>10.034738</td>\n",
       "      <td>5.083160</td>\n",
       "      <td>5.385571</td>\n",
       "      <td>7.731530</td>\n",
       "      <td>3.458106</td>\n",
       "      <td>21.025496</td>\n",
       "      <td>15.321532</td>\n",
       "      <td>1.050572</td>\n",
       "    </tr>\n",
       "    <tr>\n",
       "      <th>min</th>\n",
       "      <td>0.000000</td>\n",
       "      <td>0.000000</td>\n",
       "      <td>0.000000</td>\n",
       "      <td>0.000000</td>\n",
       "      <td>0.000000</td>\n",
       "      <td>1.000000</td>\n",
       "      <td>0.000000</td>\n",
       "      <td>0.000000</td>\n",
       "      <td>0.000000</td>\n",
       "      <td>0.000000</td>\n",
       "      <td>...</td>\n",
       "      <td>0.000000</td>\n",
       "      <td>0.000000</td>\n",
       "      <td>0.000000</td>\n",
       "      <td>0.000000</td>\n",
       "      <td>0.000000</td>\n",
       "      <td>0.000000</td>\n",
       "      <td>0.000000</td>\n",
       "      <td>1.000000</td>\n",
       "      <td>1.000000</td>\n",
       "      <td>0.000000</td>\n",
       "    </tr>\n",
       "    <tr>\n",
       "      <th>25%</th>\n",
       "      <td>0.000000</td>\n",
       "      <td>0.000000</td>\n",
       "      <td>0.000000</td>\n",
       "      <td>1.000000</td>\n",
       "      <td>0.000000</td>\n",
       "      <td>2.000000</td>\n",
       "      <td>0.000000</td>\n",
       "      <td>0.000000</td>\n",
       "      <td>1.000000</td>\n",
       "      <td>0.000000</td>\n",
       "      <td>...</td>\n",
       "      <td>0.000000</td>\n",
       "      <td>0.000000</td>\n",
       "      <td>0.000000</td>\n",
       "      <td>0.000000</td>\n",
       "      <td>0.000000</td>\n",
       "      <td>0.000000</td>\n",
       "      <td>0.000000</td>\n",
       "      <td>2.000000</td>\n",
       "      <td>3.070833</td>\n",
       "      <td>0.000000</td>\n",
       "    </tr>\n",
       "    <tr>\n",
       "      <th>50%</th>\n",
       "      <td>0.000000</td>\n",
       "      <td>0.000000</td>\n",
       "      <td>0.000000</td>\n",
       "      <td>2.000000</td>\n",
       "      <td>0.000000</td>\n",
       "      <td>4.000000</td>\n",
       "      <td>0.000000</td>\n",
       "      <td>1.000000</td>\n",
       "      <td>1.000000</td>\n",
       "      <td>0.000000</td>\n",
       "      <td>...</td>\n",
       "      <td>0.000000</td>\n",
       "      <td>2.941176</td>\n",
       "      <td>7.425214</td>\n",
       "      <td>0.000000</td>\n",
       "      <td>0.000000</td>\n",
       "      <td>0.000000</td>\n",
       "      <td>0.000000</td>\n",
       "      <td>12.000000</td>\n",
       "      <td>7.383333</td>\n",
       "      <td>1.000000</td>\n",
       "    </tr>\n",
       "    <tr>\n",
       "      <th>75%</th>\n",
       "      <td>1.000000</td>\n",
       "      <td>2.000000</td>\n",
       "      <td>1.000000</td>\n",
       "      <td>3.000000</td>\n",
       "      <td>1.000000</td>\n",
       "      <td>6.000000</td>\n",
       "      <td>1.000000</td>\n",
       "      <td>4.000000</td>\n",
       "      <td>1.000000</td>\n",
       "      <td>0.500000</td>\n",
       "      <td>...</td>\n",
       "      <td>4.750157</td>\n",
       "      <td>9.861111</td>\n",
       "      <td>17.647059</td>\n",
       "      <td>5.555556</td>\n",
       "      <td>5.555556</td>\n",
       "      <td>5.882353</td>\n",
       "      <td>3.000000</td>\n",
       "      <td>20.000000</td>\n",
       "      <td>12.000000</td>\n",
       "      <td>2.000000</td>\n",
       "    </tr>\n",
       "    <tr>\n",
       "      <th>max</th>\n",
       "      <td>1.000000</td>\n",
       "      <td>17.000000</td>\n",
       "      <td>9.000000</td>\n",
       "      <td>7.000000</td>\n",
       "      <td>13.000000</td>\n",
       "      <td>14.000000</td>\n",
       "      <td>10.000000</td>\n",
       "      <td>4.000000</td>\n",
       "      <td>1.000000</td>\n",
       "      <td>1.000000</td>\n",
       "      <td>...</td>\n",
       "      <td>40.000000</td>\n",
       "      <td>80.000000</td>\n",
       "      <td>47.058824</td>\n",
       "      <td>25.000000</td>\n",
       "      <td>33.333333</td>\n",
       "      <td>44.444444</td>\n",
       "      <td>28.000000</td>\n",
       "      <td>156.000000</td>\n",
       "      <td>156.000000</td>\n",
       "      <td>4.000000</td>\n",
       "    </tr>\n",
       "  </tbody>\n",
       "</table>\n",
       "<p>8 rows × 25 columns</p>\n",
       "</div>"
      ],
      "text/plain": [
       "          Success  Company_investor_count_seed  \\\n",
       "count  234.000000                   234.000000   \n",
       "mean     0.495726                     1.448718   \n",
       "std      0.501054                     2.737347   \n",
       "min      0.000000                     0.000000   \n",
       "25%      0.000000                     0.000000   \n",
       "50%      0.000000                     0.000000   \n",
       "75%      1.000000                     2.000000   \n",
       "max      1.000000                    17.000000   \n",
       "\n",
       "       Company_investor_count_Angel_VC  Company_cofounders_count  \\\n",
       "count                       234.000000                234.000000   \n",
       "mean                          0.777778                  2.072650   \n",
       "std                           1.663086                  1.160444   \n",
       "min                           0.000000                  0.000000   \n",
       "25%                           0.000000                  1.000000   \n",
       "50%                           0.000000                  2.000000   \n",
       "75%                           1.000000                  3.000000   \n",
       "max                           9.000000                  7.000000   \n",
       "\n",
       "       Company_advisors_count  Company_senior_team_count  \\\n",
       "count              234.000000                 234.000000   \n",
       "mean                 1.243590                   4.290598   \n",
       "std                  2.253386                   2.475840   \n",
       "min                  0.000000                   1.000000   \n",
       "25%                  0.000000                   2.000000   \n",
       "50%                  0.000000                   4.000000   \n",
       "75%                  1.000000                   6.000000   \n",
       "max                 13.000000                  14.000000   \n",
       "\n",
       "       Company_repeat_investors_count  Founder_university_quality  \\\n",
       "count                      234.000000                  234.000000   \n",
       "mean                         0.760684                    1.905983   \n",
       "std                          1.399875                    1.791649   \n",
       "min                          0.000000                    0.000000   \n",
       "25%                          0.000000                    0.000000   \n",
       "50%                          0.000000                    1.000000   \n",
       "75%                          1.000000                    4.000000   \n",
       "max                         10.000000                    4.000000   \n",
       "\n",
       "       Founders_Popularity  Founders_fortune1000_company_score  \\\n",
       "count           234.000000                          234.000000   \n",
       "mean              0.833333                            0.272650   \n",
       "std               0.373477                            0.382026   \n",
       "min               0.000000                            0.000000   \n",
       "25%               1.000000                            0.000000   \n",
       "50%               1.000000                            0.000000   \n",
       "75%               1.000000                            0.500000   \n",
       "max               1.000000                            1.000000   \n",
       "\n",
       "                ...             Founders_Leadership_skills_score  \\\n",
       "count           ...                                   234.000000   \n",
       "mean            ...                                     2.906936   \n",
       "std             ...                                     5.531376   \n",
       "min             ...                                     0.000000   \n",
       "25%             ...                                     0.000000   \n",
       "50%             ...                                     0.000000   \n",
       "75%             ...                                     4.750157   \n",
       "max             ...                                    40.000000   \n",
       "\n",
       "       Founders_Data_Science_skills_score  \\\n",
       "count                          234.000000   \n",
       "mean                             6.362701   \n",
       "std                             10.133789   \n",
       "min                              0.000000   \n",
       "25%                              0.000000   \n",
       "50%                              2.941176   \n",
       "75%                              9.861111   \n",
       "max                             80.000000   \n",
       "\n",
       "       Founders_Business_Strategy_skills_score  \\\n",
       "count                               234.000000   \n",
       "mean                                 10.302821   \n",
       "std                                  10.034738   \n",
       "min                                   0.000000   \n",
       "25%                                   0.000000   \n",
       "50%                                   7.425214   \n",
       "75%                                  17.647059   \n",
       "max                                  47.058824   \n",
       "\n",
       "       Founders_Product_Management_skills_score  Founders_Sales_skills_score  \\\n",
       "count                                234.000000                   234.000000   \n",
       "mean                                   3.468255                     3.319419   \n",
       "std                                    5.083160                     5.385571   \n",
       "min                                    0.000000                     0.000000   \n",
       "25%                                    0.000000                     0.000000   \n",
       "50%                                    0.000000                     0.000000   \n",
       "75%                                    5.555556                     5.555556   \n",
       "max                                   25.000000                    33.333333   \n",
       "\n",
       "       Founders_Domain_skills_score  Company_competitor_count  \\\n",
       "count                    234.000000                234.000000   \n",
       "mean                       4.732593                  1.893162   \n",
       "std                        7.731530                  3.458106   \n",
       "min                        0.000000                  0.000000   \n",
       "25%                        0.000000                  0.000000   \n",
       "50%                        0.000000                  0.000000   \n",
       "75%                        5.882353                  3.000000   \n",
       "max                       44.444444                 28.000000   \n",
       "\n",
       "       Company_1st_investment_time  Company_avg_investment_time  \\\n",
       "count                   234.000000                   234.000000   \n",
       "mean                     16.705128                    11.140988   \n",
       "std                      21.025496                    15.321532   \n",
       "min                       1.000000                     1.000000   \n",
       "25%                       2.000000                     3.070833   \n",
       "50%                      12.000000                     7.383333   \n",
       "75%                      20.000000                    12.000000   \n",
       "max                     156.000000                   156.000000   \n",
       "\n",
       "       Company_analytics_score  \n",
       "count               234.000000  \n",
       "mean                  0.940171  \n",
       "std                   1.050572  \n",
       "min                   0.000000  \n",
       "25%                   0.000000  \n",
       "50%                   1.000000  \n",
       "75%                   2.000000  \n",
       "max                   4.000000  \n",
       "\n",
       "[8 rows x 25 columns]"
      ]
     },
     "execution_count": 68,
     "metadata": {},
     "output_type": "execute_result"
    }
   ],
   "source": [
    "data.describe()"
   ]
  },
  {
   "cell_type": "code",
   "execution_count": 69,
   "metadata": {
    "collapsed": false
   },
   "outputs": [
    {
     "data": {
      "text/html": [
       "<div>\n",
       "<table border=\"1\" class=\"dataframe\">\n",
       "  <thead>\n",
       "    <tr style=\"text-align: right;\">\n",
       "      <th></th>\n",
       "      <th>Success</th>\n",
       "      <th>ID</th>\n",
       "      <th>Company_Location</th>\n",
       "      <th>Company_raising_fund</th>\n",
       "      <th>Company_Industry_count</th>\n",
       "      <th>Company_mobile_app</th>\n",
       "      <th>Company_investor_count_seed</th>\n",
       "      <th>Company_investor_count_Angel_VC</th>\n",
       "      <th>Company_cofounders_count</th>\n",
       "      <th>Company_advisors_count</th>\n",
       "      <th>...</th>\n",
       "      <th>Company_avg_investment_time</th>\n",
       "      <th>Company_crowdsourcing</th>\n",
       "      <th>Company_crowdfunding</th>\n",
       "      <th>Company_big_data</th>\n",
       "      <th>Company_analytics_score</th>\n",
       "      <th>Company_Product_or_service</th>\n",
       "      <th>Company_subscription_offering</th>\n",
       "      <th>Founder_highest_degree_type</th>\n",
       "      <th>Company_difficulty_obtaining_workforce</th>\n",
       "      <th>Company_Founder_Patent</th>\n",
       "    </tr>\n",
       "  </thead>\n",
       "  <tbody>\n",
       "    <tr>\n",
       "      <th>0</th>\n",
       "      <td>1</td>\n",
       "      <td>Company2</td>\n",
       "      <td>USA</td>\n",
       "      <td>No</td>\n",
       "      <td>Few</td>\n",
       "      <td>Yes</td>\n",
       "      <td>5</td>\n",
       "      <td>0</td>\n",
       "      <td>2</td>\n",
       "      <td>0</td>\n",
       "      <td>...</td>\n",
       "      <td>9.000000</td>\n",
       "      <td>Yes</td>\n",
       "      <td>No</td>\n",
       "      <td>No</td>\n",
       "      <td>2</td>\n",
       "      <td>Product</td>\n",
       "      <td>No</td>\n",
       "      <td>Management</td>\n",
       "      <td>Medium</td>\n",
       "      <td>Yes</td>\n",
       "    </tr>\n",
       "    <tr>\n",
       "      <th>1</th>\n",
       "      <td>1</td>\n",
       "      <td>Company3</td>\n",
       "      <td>USA</td>\n",
       "      <td>No</td>\n",
       "      <td>Few</td>\n",
       "      <td>No</td>\n",
       "      <td>15</td>\n",
       "      <td>0</td>\n",
       "      <td>3</td>\n",
       "      <td>0</td>\n",
       "      <td>...</td>\n",
       "      <td>7.344444</td>\n",
       "      <td>No</td>\n",
       "      <td>No</td>\n",
       "      <td>No</td>\n",
       "      <td>1</td>\n",
       "      <td>Both</td>\n",
       "      <td>Yes</td>\n",
       "      <td>Science</td>\n",
       "      <td>Medium</td>\n",
       "      <td>Yes</td>\n",
       "    </tr>\n",
       "    <tr>\n",
       "      <th>2</th>\n",
       "      <td>1</td>\n",
       "      <td>Company5</td>\n",
       "      <td>USA</td>\n",
       "      <td>No</td>\n",
       "      <td>Few</td>\n",
       "      <td>No</td>\n",
       "      <td>7</td>\n",
       "      <td>0</td>\n",
       "      <td>1</td>\n",
       "      <td>1</td>\n",
       "      <td>...</td>\n",
       "      <td>9.822222</td>\n",
       "      <td>No</td>\n",
       "      <td>No</td>\n",
       "      <td>No</td>\n",
       "      <td>0</td>\n",
       "      <td>Product</td>\n",
       "      <td>No</td>\n",
       "      <td>Technology</td>\n",
       "      <td>Medium</td>\n",
       "      <td>Yes</td>\n",
       "    </tr>\n",
       "    <tr>\n",
       "      <th>3</th>\n",
       "      <td>1</td>\n",
       "      <td>Company6</td>\n",
       "      <td>USA</td>\n",
       "      <td>No</td>\n",
       "      <td>Few</td>\n",
       "      <td>No</td>\n",
       "      <td>2</td>\n",
       "      <td>0</td>\n",
       "      <td>4</td>\n",
       "      <td>0</td>\n",
       "      <td>...</td>\n",
       "      <td>9.322222</td>\n",
       "      <td>No</td>\n",
       "      <td>No</td>\n",
       "      <td>No</td>\n",
       "      <td>0</td>\n",
       "      <td>Service</td>\n",
       "      <td>No</td>\n",
       "      <td>Science</td>\n",
       "      <td>Medium</td>\n",
       "      <td>Yes</td>\n",
       "    </tr>\n",
       "    <tr>\n",
       "      <th>4</th>\n",
       "      <td>1</td>\n",
       "      <td>Company8</td>\n",
       "      <td>USA</td>\n",
       "      <td>No</td>\n",
       "      <td>Few</td>\n",
       "      <td>No</td>\n",
       "      <td>0</td>\n",
       "      <td>0</td>\n",
       "      <td>3</td>\n",
       "      <td>4</td>\n",
       "      <td>...</td>\n",
       "      <td>6.400000</td>\n",
       "      <td>No</td>\n",
       "      <td>No</td>\n",
       "      <td>No</td>\n",
       "      <td>2</td>\n",
       "      <td>Both</td>\n",
       "      <td>No</td>\n",
       "      <td>Management</td>\n",
       "      <td>Medium</td>\n",
       "      <td>No</td>\n",
       "    </tr>\n",
       "  </tbody>\n",
       "</table>\n",
       "<p>5 rows × 51 columns</p>\n",
       "</div>"
      ],
      "text/plain": [
       "   Success        ID Company_Location Company_raising_fund  \\\n",
       "0        1  Company2              USA                   No   \n",
       "1        1  Company3              USA                   No   \n",
       "2        1  Company5              USA                   No   \n",
       "3        1  Company6              USA                   No   \n",
       "4        1  Company8              USA                   No   \n",
       "\n",
       "  Company_Industry_count Company_mobile_app  Company_investor_count_seed  \\\n",
       "0                    Few                Yes                            5   \n",
       "1                    Few                 No                           15   \n",
       "2                    Few                 No                            7   \n",
       "3                    Few                 No                            2   \n",
       "4                    Few                 No                            0   \n",
       "\n",
       "   Company_investor_count_Angel_VC  Company_cofounders_count  \\\n",
       "0                                0                         2   \n",
       "1                                0                         3   \n",
       "2                                0                         1   \n",
       "3                                0                         4   \n",
       "4                                0                         3   \n",
       "\n",
       "   Company_advisors_count          ...            Company_avg_investment_time  \\\n",
       "0                       0          ...                               9.000000   \n",
       "1                       0          ...                               7.344444   \n",
       "2                       1          ...                               9.822222   \n",
       "3                       0          ...                               9.322222   \n",
       "4                       4          ...                               6.400000   \n",
       "\n",
       "  Company_crowdsourcing  Company_crowdfunding Company_big_data  \\\n",
       "0                   Yes                    No               No   \n",
       "1                    No                    No               No   \n",
       "2                    No                    No               No   \n",
       "3                    No                    No               No   \n",
       "4                    No                    No               No   \n",
       "\n",
       "  Company_analytics_score Company_Product_or_service  \\\n",
       "0                       2                    Product   \n",
       "1                       1                       Both   \n",
       "2                       0                    Product   \n",
       "3                       0                    Service   \n",
       "4                       2                       Both   \n",
       "\n",
       "  Company_subscription_offering Founder_highest_degree_type  \\\n",
       "0                            No                  Management   \n",
       "1                           Yes                     Science   \n",
       "2                            No                  Technology   \n",
       "3                            No                     Science   \n",
       "4                            No                  Management   \n",
       "\n",
       "  Company_difficulty_obtaining_workforce Company_Founder_Patent  \n",
       "0                                 Medium                    Yes  \n",
       "1                                 Medium                    Yes  \n",
       "2                                 Medium                    Yes  \n",
       "3                                 Medium                    Yes  \n",
       "4                                 Medium                     No  \n",
       "\n",
       "[5 rows x 51 columns]"
      ]
     },
     "execution_count": 69,
     "metadata": {},
     "output_type": "execute_result"
    }
   ],
   "source": [
    "data.head()"
   ]
  },
  {
   "cell_type": "code",
   "execution_count": 70,
   "metadata": {
    "collapsed": true
   },
   "outputs": [],
   "source": [
    "import matplotlib.pyplot as plt\n",
    "import seaborn as sns"
   ]
  },
  {
   "cell_type": "code",
   "execution_count": 71,
   "metadata": {
    "collapsed": true
   },
   "outputs": [],
   "source": [
    "#I dropped the skills below as they are included in founder skills score"
   ]
  },
  {
   "cell_type": "code",
   "execution_count": 72,
   "metadata": {
    "collapsed": true
   },
   "outputs": [],
   "source": [
    "data = data.drop([\"Founders_Entrepreneurship_skills_score\"],axis=1)\n"
   ]
  },
  {
   "cell_type": "code",
   "execution_count": 73,
   "metadata": {
    "collapsed": true
   },
   "outputs": [],
   "source": [
    "data = data.drop([\"Founders_Operations_skills_score\"],axis=1)"
   ]
  },
  {
   "cell_type": "code",
   "execution_count": 74,
   "metadata": {
    "collapsed": true
   },
   "outputs": [],
   "source": [
    "data = data.drop([\"Founders_Engineering_skills_score\"],axis=1)"
   ]
  },
  {
   "cell_type": "code",
   "execution_count": 75,
   "metadata": {
    "collapsed": true
   },
   "outputs": [],
   "source": [
    "data = data.drop([\"Founders_Marketing_skills_score\"],axis=1)\n",
    "\n"
   ]
  },
  {
   "cell_type": "code",
   "execution_count": 76,
   "metadata": {
    "collapsed": true
   },
   "outputs": [],
   "source": [
    "data = data.drop([\"Founders_Leadership_skills_score\"],axis=1)\n"
   ]
  },
  {
   "cell_type": "code",
   "execution_count": 77,
   "metadata": {
    "collapsed": true
   },
   "outputs": [],
   "source": [
    "data = data.drop([\"Founders_Data_Science_skills_score\"],axis=1)"
   ]
  },
  {
   "cell_type": "code",
   "execution_count": 78,
   "metadata": {
    "collapsed": true
   },
   "outputs": [],
   "source": [
    "data = data.drop([\"Founders_Business_Strategy_skills_score\"],axis=1)"
   ]
  },
  {
   "cell_type": "code",
   "execution_count": 79,
   "metadata": {
    "collapsed": true
   },
   "outputs": [],
   "source": [
    "data = data.drop([\"Founders_Product_Management_skills_score\"],axis=1)"
   ]
  },
  {
   "cell_type": "code",
   "execution_count": 80,
   "metadata": {
    "collapsed": true
   },
   "outputs": [],
   "source": [
    "data = data.drop([\"Founders_Sales_skills_score\"],axis=1)"
   ]
  },
  {
   "cell_type": "code",
   "execution_count": 81,
   "metadata": {
    "collapsed": true
   },
   "outputs": [],
   "source": [
    "data = data.drop([\"Founders_Domain_skills_score\"],axis=1)"
   ]
  },
  {
   "cell_type": "code",
   "execution_count": 82,
   "metadata": {
    "collapsed": true
   },
   "outputs": [],
   "source": [
    "data = data.drop([\"Company_business_model\"],axis=1)"
   ]
  },
  {
   "cell_type": "code",
   "execution_count": 83,
   "metadata": {
    "collapsed": true
   },
   "outputs": [],
   "source": [
    "data = data.drop([\"ID\"],axis=1)"
   ]
  },
  {
   "cell_type": "code",
   "execution_count": 84,
   "metadata": {
    "collapsed": true
   },
   "outputs": [],
   "source": [
    "data[\"Company_Location\"] = data[\"Company_Location\"].astype(\"category\").cat.reorder_categories([\"USA\",\"Europe\",\"Other\"]).cat.codes\n",
    "data[\"Company_Location\"] = data[\"Company_Location\"].where(data[\"Company_Location\"]==0,1)"
   ]
  },
  {
   "cell_type": "code",
   "execution_count": 85,
   "metadata": {
    "collapsed": true
   },
   "outputs": [],
   "source": [
    "data[\"Founders_previous_company_employee_count\"] = data[\"Founders_previous_company_employee_count\"].astype(\"category\").cat.reorder_categories([\"Large\",\"Small\",\"Medium\"]).cat.codes\n",
    "data[\"Founders_previous_company_employee_count\"] = data[\"Founders_previous_company_employee_count\"].where(data[\"Founders_previous_company_employee_count\"]==0,1)"
   ]
  },
  {
   "cell_type": "code",
   "execution_count": 86,
   "metadata": {
    "collapsed": false
   },
   "outputs": [
    {
     "data": {
      "text/html": [
       "<div>\n",
       "<table border=\"1\" class=\"dataframe\">\n",
       "  <thead>\n",
       "    <tr style=\"text-align: right;\">\n",
       "      <th></th>\n",
       "      <th>Success</th>\n",
       "      <th>Company_Location</th>\n",
       "      <th>Company_raising_fund</th>\n",
       "      <th>Company_Industry_count</th>\n",
       "      <th>Company_mobile_app</th>\n",
       "      <th>Company_investor_count_seed</th>\n",
       "      <th>Company_investor_count_Angel_VC</th>\n",
       "      <th>Company_cofounders_count</th>\n",
       "      <th>Company_advisors_count</th>\n",
       "      <th>Company_senior_team_count</th>\n",
       "      <th>...</th>\n",
       "      <th>Company_avg_investment_time</th>\n",
       "      <th>Company_crowdsourcing</th>\n",
       "      <th>Company_crowdfunding</th>\n",
       "      <th>Company_big_data</th>\n",
       "      <th>Company_analytics_score</th>\n",
       "      <th>Company_Product_or_service</th>\n",
       "      <th>Company_subscription_offering</th>\n",
       "      <th>Founder_highest_degree_type</th>\n",
       "      <th>Company_difficulty_obtaining_workforce</th>\n",
       "      <th>Company_Founder_Patent</th>\n",
       "    </tr>\n",
       "  </thead>\n",
       "  <tbody>\n",
       "    <tr>\n",
       "      <th>0</th>\n",
       "      <td>1</td>\n",
       "      <td>0</td>\n",
       "      <td>No</td>\n",
       "      <td>Few</td>\n",
       "      <td>Yes</td>\n",
       "      <td>5</td>\n",
       "      <td>0</td>\n",
       "      <td>2</td>\n",
       "      <td>0</td>\n",
       "      <td>4</td>\n",
       "      <td>...</td>\n",
       "      <td>9.000000</td>\n",
       "      <td>Yes</td>\n",
       "      <td>No</td>\n",
       "      <td>No</td>\n",
       "      <td>2</td>\n",
       "      <td>Product</td>\n",
       "      <td>No</td>\n",
       "      <td>Management</td>\n",
       "      <td>Medium</td>\n",
       "      <td>Yes</td>\n",
       "    </tr>\n",
       "    <tr>\n",
       "      <th>1</th>\n",
       "      <td>1</td>\n",
       "      <td>0</td>\n",
       "      <td>No</td>\n",
       "      <td>Few</td>\n",
       "      <td>No</td>\n",
       "      <td>15</td>\n",
       "      <td>0</td>\n",
       "      <td>3</td>\n",
       "      <td>0</td>\n",
       "      <td>7</td>\n",
       "      <td>...</td>\n",
       "      <td>7.344444</td>\n",
       "      <td>No</td>\n",
       "      <td>No</td>\n",
       "      <td>No</td>\n",
       "      <td>1</td>\n",
       "      <td>Both</td>\n",
       "      <td>Yes</td>\n",
       "      <td>Science</td>\n",
       "      <td>Medium</td>\n",
       "      <td>Yes</td>\n",
       "    </tr>\n",
       "    <tr>\n",
       "      <th>2</th>\n",
       "      <td>1</td>\n",
       "      <td>0</td>\n",
       "      <td>No</td>\n",
       "      <td>Few</td>\n",
       "      <td>No</td>\n",
       "      <td>7</td>\n",
       "      <td>0</td>\n",
       "      <td>1</td>\n",
       "      <td>1</td>\n",
       "      <td>8</td>\n",
       "      <td>...</td>\n",
       "      <td>9.822222</td>\n",
       "      <td>No</td>\n",
       "      <td>No</td>\n",
       "      <td>No</td>\n",
       "      <td>0</td>\n",
       "      <td>Product</td>\n",
       "      <td>No</td>\n",
       "      <td>Technology</td>\n",
       "      <td>Medium</td>\n",
       "      <td>Yes</td>\n",
       "    </tr>\n",
       "    <tr>\n",
       "      <th>3</th>\n",
       "      <td>1</td>\n",
       "      <td>0</td>\n",
       "      <td>No</td>\n",
       "      <td>Few</td>\n",
       "      <td>No</td>\n",
       "      <td>2</td>\n",
       "      <td>0</td>\n",
       "      <td>4</td>\n",
       "      <td>0</td>\n",
       "      <td>4</td>\n",
       "      <td>...</td>\n",
       "      <td>9.322222</td>\n",
       "      <td>No</td>\n",
       "      <td>No</td>\n",
       "      <td>No</td>\n",
       "      <td>0</td>\n",
       "      <td>Service</td>\n",
       "      <td>No</td>\n",
       "      <td>Science</td>\n",
       "      <td>Medium</td>\n",
       "      <td>Yes</td>\n",
       "    </tr>\n",
       "    <tr>\n",
       "      <th>4</th>\n",
       "      <td>1</td>\n",
       "      <td>0</td>\n",
       "      <td>No</td>\n",
       "      <td>Few</td>\n",
       "      <td>No</td>\n",
       "      <td>0</td>\n",
       "      <td>0</td>\n",
       "      <td>3</td>\n",
       "      <td>4</td>\n",
       "      <td>4</td>\n",
       "      <td>...</td>\n",
       "      <td>6.400000</td>\n",
       "      <td>No</td>\n",
       "      <td>No</td>\n",
       "      <td>No</td>\n",
       "      <td>2</td>\n",
       "      <td>Both</td>\n",
       "      <td>No</td>\n",
       "      <td>Management</td>\n",
       "      <td>Medium</td>\n",
       "      <td>No</td>\n",
       "    </tr>\n",
       "  </tbody>\n",
       "</table>\n",
       "<p>5 rows × 39 columns</p>\n",
       "</div>"
      ],
      "text/plain": [
       "   Success  Company_Location Company_raising_fund Company_Industry_count  \\\n",
       "0        1                 0                   No                    Few   \n",
       "1        1                 0                   No                    Few   \n",
       "2        1                 0                   No                    Few   \n",
       "3        1                 0                   No                    Few   \n",
       "4        1                 0                   No                    Few   \n",
       "\n",
       "  Company_mobile_app  Company_investor_count_seed  \\\n",
       "0                Yes                            5   \n",
       "1                 No                           15   \n",
       "2                 No                            7   \n",
       "3                 No                            2   \n",
       "4                 No                            0   \n",
       "\n",
       "   Company_investor_count_Angel_VC  Company_cofounders_count  \\\n",
       "0                                0                         2   \n",
       "1                                0                         3   \n",
       "2                                0                         1   \n",
       "3                                0                         4   \n",
       "4                                0                         3   \n",
       "\n",
       "   Company_advisors_count  Company_senior_team_count          ...            \\\n",
       "0                       0                          4          ...             \n",
       "1                       0                          7          ...             \n",
       "2                       1                          8          ...             \n",
       "3                       0                          4          ...             \n",
       "4                       4                          4          ...             \n",
       "\n",
       "  Company_avg_investment_time  Company_crowdsourcing Company_crowdfunding  \\\n",
       "0                    9.000000                    Yes                   No   \n",
       "1                    7.344444                     No                   No   \n",
       "2                    9.822222                     No                   No   \n",
       "3                    9.322222                     No                   No   \n",
       "4                    6.400000                     No                   No   \n",
       "\n",
       "   Company_big_data Company_analytics_score Company_Product_or_service  \\\n",
       "0                No                       2                    Product   \n",
       "1                No                       1                       Both   \n",
       "2                No                       0                    Product   \n",
       "3                No                       0                    Service   \n",
       "4                No                       2                       Both   \n",
       "\n",
       "  Company_subscription_offering Founder_highest_degree_type  \\\n",
       "0                            No                  Management   \n",
       "1                           Yes                     Science   \n",
       "2                            No                  Technology   \n",
       "3                            No                     Science   \n",
       "4                            No                  Management   \n",
       "\n",
       "  Company_difficulty_obtaining_workforce Company_Founder_Patent  \n",
       "0                                 Medium                    Yes  \n",
       "1                                 Medium                    Yes  \n",
       "2                                 Medium                    Yes  \n",
       "3                                 Medium                    Yes  \n",
       "4                                 Medium                     No  \n",
       "\n",
       "[5 rows x 39 columns]"
      ]
     },
     "execution_count": 86,
     "metadata": {},
     "output_type": "execute_result"
    }
   ],
   "source": [
    "data.head()"
   ]
  },
  {
   "cell_type": "code",
   "execution_count": 87,
   "metadata": {
    "collapsed": true
   },
   "outputs": [],
   "source": [
    "data[\"Company_raising_fund\"] = data[\"Company_raising_fund\"].astype(\"category\").cat.reorder_categories([\"Yes\",\"No\"]).cat.codes"
   ]
  },
  {
   "cell_type": "code",
   "execution_count": 88,
   "metadata": {
    "collapsed": true
   },
   "outputs": [],
   "source": [
    "data[\"Company_mobile_app\"] = data[\"Company_mobile_app\"].astype(\"category\").cat.reorder_categories([\"Yes\",\"No\"]).cat.codes"
   ]
  },
  {
   "cell_type": "code",
   "execution_count": 90,
   "metadata": {
    "collapsed": false
   },
   "outputs": [],
   "source": [
    "data = data.drop([\"Founders_top_company_experience\"],axis=1)"
   ]
  },
  {
   "cell_type": "code",
   "execution_count": 51,
   "metadata": {
    "collapsed": false
   },
   "outputs": [],
   "source": [
    "data[\"Company_top_Angel_VC_funding\"] = data[\"Company_top_Angel_VC_funding\"].astype(\"category\").cat.reorder_categories([\"Yes\",\"No\"]).cat.codes"
   ]
  },
  {
   "cell_type": "code",
   "execution_count": 91,
   "metadata": {
    "collapsed": true
   },
   "outputs": [],
   "source": [
    "data = data.drop([\"Founders_startup_experience\"],axis=1)"
   ]
  },
  {
   "cell_type": "code",
   "execution_count": 92,
   "metadata": {
    "collapsed": true
   },
   "outputs": [],
   "source": [
    "data = data.drop([\"Founders_previous_company_employee_count\"],axis=1)"
   ]
  },
  {
   "cell_type": "code",
   "execution_count": 93,
   "metadata": {
    "collapsed": false
   },
   "outputs": [
    {
     "data": {
      "text/plain": [
       "Success                                     int64\n",
       "Company_Location                             int8\n",
       "Company_raising_fund                         int8\n",
       "Company_Industry_count                     object\n",
       "Company_mobile_app                           int8\n",
       "Company_investor_count_seed                 int64\n",
       "Company_investor_count_Angel_VC             int64\n",
       "Company_cofounders_count                    int64\n",
       "Company_advisors_count                      int64\n",
       "Company_senior_team_count                   int64\n",
       "Company_top_Angel_VC_funding               object\n",
       "Company_repeat_investors_count              int64\n",
       "Founders_big_5_experience                  object\n",
       "Founders_experience                        object\n",
       "Founders_global_exposure                   object\n",
       "Founders_Industry_exposure                 object\n",
       "Founder_education                          object\n",
       "Founder_university_quality                  int64\n",
       "Founders_Popularity                         int64\n",
       "Founders_fortune1000_company_score        float64\n",
       "Founders_profile_similarity                object\n",
       "Founders_publications                      object\n",
       "Founders_skills_score                     float64\n",
       "Company_incubation_investor                object\n",
       "Company_competitor_count                    int64\n",
       "Company_1st_investment_time                 int64\n",
       "Company_avg_investment_time               float64\n",
       "Company_crowdsourcing                      object\n",
       "Company_crowdfunding                       object\n",
       "Company_big_data                           object\n",
       "Company_analytics_score                     int64\n",
       "Company_Product_or_service                 object\n",
       "Company_subscription_offering              object\n",
       "Founder_highest_degree_type                object\n",
       "Company_difficulty_obtaining_workforce     object\n",
       "Company_Founder_Patent                     object\n",
       "dtype: object"
      ]
     },
     "execution_count": 93,
     "metadata": {},
     "output_type": "execute_result"
    }
   ],
   "source": [
    "data.dtypes"
   ]
  },
  {
   "cell_type": "code",
   "execution_count": 94,
   "metadata": {
    "collapsed": true
   },
   "outputs": [],
   "source": [
    "data = data.drop([\"Founders_big_5_experience\"],axis=1)"
   ]
  },
  {
   "cell_type": "code",
   "execution_count": 95,
   "metadata": {
    "collapsed": true
   },
   "outputs": [],
   "source": [
    "data[\"Founders_global_exposure\"] = data[\"Founders_global_exposure\"].astype(\"category\").cat.reorder_categories([\"Yes\",\"No\"]).cat.codes"
   ]
  },
  {
   "cell_type": "code",
   "execution_count": 96,
   "metadata": {
    "collapsed": true
   },
   "outputs": [],
   "source": [
    "data[\"Company_incubation_investor\"] = data[\"Company_incubation_investor\"].astype(\"category\").cat.reorder_categories([\"Yes\",\"No\"]).cat.codes"
   ]
  },
  {
   "cell_type": "code",
   "execution_count": 97,
   "metadata": {
    "collapsed": true
   },
   "outputs": [],
   "source": [
    "data[\"Company_big_data\"] = data[\"Company_big_data\"].astype(\"category\").cat.reorder_categories([\"Yes\",\"No\"]).cat.codes"
   ]
  },
  {
   "cell_type": "code",
   "execution_count": 98,
   "metadata": {
    "collapsed": true
   },
   "outputs": [],
   "source": [
    "data[\"Company_crowdsourcing\"] = data[\"Company_crowdsourcing\"].astype(\"category\").cat.reorder_categories([\"Yes\",\"No\"]).cat.codes"
   ]
  },
  {
   "cell_type": "code",
   "execution_count": 99,
   "metadata": {
    "collapsed": true
   },
   "outputs": [],
   "source": [
    "data[\"Company_crowdfunding\"] = data[\"Company_crowdfunding\"].astype(\"category\").cat.reorder_categories([\"Yes\",\"No\"]).cat.codes"
   ]
  },
  {
   "cell_type": "code",
   "execution_count": 100,
   "metadata": {
    "collapsed": false
   },
   "outputs": [],
   "source": [
    "data[\"Company_subscription_offering\"] = data[\"Company_subscription_offering\"].astype(\"category\").cat.reorder_categories([\"Yes\",\"No\"]).cat.codes"
   ]
  },
  {
   "cell_type": "code",
   "execution_count": 101,
   "metadata": {
    "collapsed": false
   },
   "outputs": [
    {
     "data": {
      "text/plain": [
       "Success                                     int64\n",
       "Company_Location                             int8\n",
       "Company_raising_fund                         int8\n",
       "Company_Industry_count                     object\n",
       "Company_mobile_app                           int8\n",
       "Company_investor_count_seed                 int64\n",
       "Company_investor_count_Angel_VC             int64\n",
       "Company_cofounders_count                    int64\n",
       "Company_advisors_count                      int64\n",
       "Company_senior_team_count                   int64\n",
       "Company_top_Angel_VC_funding               object\n",
       "Company_repeat_investors_count              int64\n",
       "Founders_experience                        object\n",
       "Founders_global_exposure                     int8\n",
       "Founders_Industry_exposure                 object\n",
       "Founder_education                          object\n",
       "Founder_university_quality                  int64\n",
       "Founders_Popularity                         int64\n",
       "Founders_fortune1000_company_score        float64\n",
       "Founders_profile_similarity                object\n",
       "Founders_publications                      object\n",
       "Founders_skills_score                     float64\n",
       "Company_incubation_investor                  int8\n",
       "Company_competitor_count                    int64\n",
       "Company_1st_investment_time                 int64\n",
       "Company_avg_investment_time               float64\n",
       "Company_crowdsourcing                        int8\n",
       "Company_crowdfunding                         int8\n",
       "Company_big_data                             int8\n",
       "Company_analytics_score                     int64\n",
       "Company_Product_or_service                 object\n",
       "Company_subscription_offering                int8\n",
       "Founder_highest_degree_type                object\n",
       "Company_difficulty_obtaining_workforce     object\n",
       "Company_Founder_Patent                     object\n",
       "dtype: object"
      ]
     },
     "execution_count": 101,
     "metadata": {},
     "output_type": "execute_result"
    }
   ],
   "source": [
    "data.dtypes"
   ]
  },
  {
   "cell_type": "code",
   "execution_count": 64,
   "metadata": {
    "collapsed": true
   },
   "outputs": [],
   "source": [
    "data[\"Company_Founder_Patent\"] = data[\"Company_Founder_Patent\"].astype(\"category\").cat.reorder_categories([\"Yes\",\"No\"]).cat.codes"
   ]
  },
  {
   "cell_type": "code",
   "execution_count": 102,
   "metadata": {
    "collapsed": true
   },
   "outputs": [],
   "source": [
    "data[\"Company_Founder_Patent\"] = data[\"Company_Founder_Patent\"].astype(\"category\").cat.reorder_categories([\"Yes\",\"No\"]).cat.codes"
   ]
  },
  {
   "cell_type": "code",
   "execution_count": 104,
   "metadata": {
    "collapsed": false
   },
   "outputs": [],
   "source": [
    "data[\"Company_Industry_count\"] = data[\"Company_Industry_count\"].astype(\"category\").cat.reorder_categories([\"Few\",\"single\",\"Many\"]).cat.codes\n",
    "data[\"Company_Industry_count\"] = data[\"Company_Industry_count\"].where(data[\"Company_Industry_count\"]==0,1)"
   ]
  },
  {
   "cell_type": "code",
   "execution_count": 105,
   "metadata": {
    "collapsed": true
   },
   "outputs": [],
   "source": [
    "data[\"Company_top_Angel_VC_funding\"] = data[\"Company_top_Angel_VC_funding\"].astype(\"category\").cat.reorder_categories([\"Yes\",\"No\"]).cat.codes"
   ]
  },
  {
   "cell_type": "code",
   "execution_count": 106,
   "metadata": {
    "collapsed": true
   },
   "outputs": [],
   "source": [
    "data[\"Founders_experience\"] = data[\"Founders_experience\"].astype(\"category\").cat.reorder_categories([\"High\",\"Medium\",\"Low\"]).cat.codes\n",
    "data[\"Founders_experience\"] = data[\"Founders_experience\"].where(data[\"Founders_experience\"]==0,1)"
   ]
  },
  {
   "cell_type": "code",
   "execution_count": 108,
   "metadata": {
    "collapsed": false
   },
   "outputs": [],
   "source": [
    "data[\"Founder_education\"] = data[\"Founder_education\"].astype(\"category\").cat.reorder_categories([\"Masters\",\"PhD\",\"Bachelors\"]).cat.codes\n",
    "data[\"Founder_education\"] = data[\"Founder_education\"].where(data[\"Founder_education\"]==0,1)"
   ]
  },
  {
   "cell_type": "code",
   "execution_count": 109,
   "metadata": {
    "collapsed": true
   },
   "outputs": [],
   "source": [
    "data[\"Founders_profile_similarity\"] = data[\"Founders_profile_similarity\"].astype(\"category\").cat.reorder_categories([\"High\",\"Medium\",\"Low\",\"None\"]).cat.codes\n",
    "data[\"Founders_profile_similarity\"] = data[\"Founders_profile_similarity\"].where(data[\"Founders_profile_similarity\"]==0,1)"
   ]
  },
  {
   "cell_type": "code",
   "execution_count": 110,
   "metadata": {
    "collapsed": false
   },
   "outputs": [
    {
     "data": {
      "text/plain": [
       "Success                                     int64\n",
       "Company_Location                             int8\n",
       "Company_raising_fund                         int8\n",
       "Company_Industry_count                       int8\n",
       "Company_mobile_app                           int8\n",
       "Company_investor_count_seed                 int64\n",
       "Company_investor_count_Angel_VC             int64\n",
       "Company_cofounders_count                    int64\n",
       "Company_advisors_count                      int64\n",
       "Company_senior_team_count                   int64\n",
       "Company_top_Angel_VC_funding                 int8\n",
       "Company_repeat_investors_count              int64\n",
       "Founders_experience                          int8\n",
       "Founders_global_exposure                     int8\n",
       "Founders_Industry_exposure                 object\n",
       "Founder_education                            int8\n",
       "Founder_university_quality                  int64\n",
       "Founders_Popularity                         int64\n",
       "Founders_fortune1000_company_score        float64\n",
       "Founders_profile_similarity                  int8\n",
       "Founders_publications                      object\n",
       "Founders_skills_score                     float64\n",
       "Company_incubation_investor                  int8\n",
       "Company_competitor_count                    int64\n",
       "Company_1st_investment_time                 int64\n",
       "Company_avg_investment_time               float64\n",
       "Company_crowdsourcing                        int8\n",
       "Company_crowdfunding                         int8\n",
       "Company_big_data                             int8\n",
       "Company_analytics_score                     int64\n",
       "Company_Product_or_service                 object\n",
       "Company_subscription_offering                int8\n",
       "Founder_highest_degree_type                object\n",
       "Company_difficulty_obtaining_workforce     object\n",
       "Company_Founder_Patent                       int8\n",
       "dtype: object"
      ]
     },
     "execution_count": 110,
     "metadata": {},
     "output_type": "execute_result"
    }
   ],
   "source": [
    "data.dtypes"
   ]
  },
  {
   "cell_type": "code",
   "execution_count": 111,
   "metadata": {
    "collapsed": true
   },
   "outputs": [],
   "source": [
    "data[\"Founders_Industry_exposure\"] = data[\"Founders_Industry_exposure\"].astype(\"category\").cat.reorder_categories([\"High\",\"Medium\",\"Low\"]).cat.codes\n",
    "data[\"Founders_Industry_exposure\"] = data[\"Founders_Industry_exposure\"].where(data[\"Founders_Industry_exposure\"]==0,1)"
   ]
  },
  {
   "cell_type": "code",
   "execution_count": 112,
   "metadata": {
    "collapsed": true
   },
   "outputs": [],
   "source": [
    "data[\"Founders_publications\"] = data[\"Founders_publications\"].astype(\"category\").cat.reorder_categories([\"Many\",\"Few\",\"None\"]).cat.codes\n",
    "data[\"Founders_publications\"] = data[\"Founders_publications\"].where(data[\"Founders_publications\"]==0,1)"
   ]
  },
  {
   "cell_type": "code",
   "execution_count": 113,
   "metadata": {
    "collapsed": true
   },
   "outputs": [],
   "source": [
    "data[\"Company_Product_or_service\"] = data[\"Company_Product_or_service\"].astype(\"category\").cat.reorder_categories([\"Product\",\"Service\",\"Both\"]).cat.codes\n",
    "data[\"Company_Product_or_service\"] = data[\"Company_Product_or_service\"].where(data[\"Company_Product_or_service\"]==0,1)"
   ]
  },
  {
   "cell_type": "code",
   "execution_count": 117,
   "metadata": {
    "collapsed": true
   },
   "outputs": [],
   "source": [
    "data[\"Company_difficulty_obtaining_workforce\"] = data[\"Company_difficulty_obtaining_workforce\"].astype(\"category\").cat.reorder_categories([\"High\",\"Medium\",\"Low\"]).cat.codes\n",
    "data[\"Company_difficulty_obtaining_workforce\"] = data[\"Company_difficulty_obtaining_workforce\"].where(data[\"Company_difficulty_obtaining_workforce\"]==0,1)"
   ]
  },
  {
   "cell_type": "code",
   "execution_count": 118,
   "metadata": {
    "collapsed": false
   },
   "outputs": [
    {
     "data": {
      "text/plain": [
       "Success                                     int64\n",
       "Company_Location                             int8\n",
       "Company_raising_fund                         int8\n",
       "Company_Industry_count                       int8\n",
       "Company_mobile_app                           int8\n",
       "Company_investor_count_seed                 int64\n",
       "Company_investor_count_Angel_VC             int64\n",
       "Company_cofounders_count                    int64\n",
       "Company_advisors_count                      int64\n",
       "Company_senior_team_count                   int64\n",
       "Company_top_Angel_VC_funding                 int8\n",
       "Company_repeat_investors_count              int64\n",
       "Founders_experience                          int8\n",
       "Founders_global_exposure                     int8\n",
       "Founders_Industry_exposure                   int8\n",
       "Founder_education                            int8\n",
       "Founder_university_quality                  int64\n",
       "Founders_Popularity                         int64\n",
       "Founders_fortune1000_company_score        float64\n",
       "Founders_profile_similarity                  int8\n",
       "Founders_publications                        int8\n",
       "Founders_skills_score                     float64\n",
       "Company_incubation_investor                  int8\n",
       "Company_competitor_count                    int64\n",
       "Company_1st_investment_time                 int64\n",
       "Company_avg_investment_time               float64\n",
       "Company_crowdsourcing                        int8\n",
       "Company_crowdfunding                         int8\n",
       "Company_big_data                             int8\n",
       "Company_analytics_score                     int64\n",
       "Company_Product_or_service                   int8\n",
       "Company_subscription_offering                int8\n",
       "Founder_highest_degree_type                object\n",
       "Company_difficulty_obtaining_workforce       int8\n",
       "Company_Founder_Patent                       int8\n",
       "dtype: object"
      ]
     },
     "execution_count": 118,
     "metadata": {},
     "output_type": "execute_result"
    }
   ],
   "source": [
    "data.dtypes"
   ]
  },
  {
   "cell_type": "code",
   "execution_count": 119,
   "metadata": {
    "collapsed": false
   },
   "outputs": [
    {
     "data": {
      "text/html": [
       "<div>\n",
       "<table border=\"1\" class=\"dataframe\">\n",
       "  <thead>\n",
       "    <tr style=\"text-align: right;\">\n",
       "      <th></th>\n",
       "      <th>Management</th>\n",
       "      <th>Other</th>\n",
       "      <th>Science</th>\n",
       "      <th>Technology</th>\n",
       "    </tr>\n",
       "  </thead>\n",
       "  <tbody>\n",
       "    <tr>\n",
       "      <th>0</th>\n",
       "      <td>1</td>\n",
       "      <td>0</td>\n",
       "      <td>0</td>\n",
       "      <td>0</td>\n",
       "    </tr>\n",
       "    <tr>\n",
       "      <th>1</th>\n",
       "      <td>0</td>\n",
       "      <td>0</td>\n",
       "      <td>1</td>\n",
       "      <td>0</td>\n",
       "    </tr>\n",
       "    <tr>\n",
       "      <th>2</th>\n",
       "      <td>0</td>\n",
       "      <td>0</td>\n",
       "      <td>0</td>\n",
       "      <td>1</td>\n",
       "    </tr>\n",
       "    <tr>\n",
       "      <th>3</th>\n",
       "      <td>0</td>\n",
       "      <td>0</td>\n",
       "      <td>1</td>\n",
       "      <td>0</td>\n",
       "    </tr>\n",
       "    <tr>\n",
       "      <th>4</th>\n",
       "      <td>1</td>\n",
       "      <td>0</td>\n",
       "      <td>0</td>\n",
       "      <td>0</td>\n",
       "    </tr>\n",
       "  </tbody>\n",
       "</table>\n",
       "</div>"
      ],
      "text/plain": [
       "   Management  Other  Science  Technology\n",
       "0           1      0        0           0\n",
       "1           0      0        1           0\n",
       "2           0      0        0           1\n",
       "3           0      0        1           0\n",
       "4           1      0        0           0"
      ]
     },
     "execution_count": 119,
     "metadata": {},
     "output_type": "execute_result"
    }
   ],
   "source": [
    "degree = pd.get_dummies(data[\"Founder_highest_degree_type\"])\n",
    "degree.head()"
   ]
  },
  {
   "cell_type": "code",
   "execution_count": 120,
   "metadata": {
    "collapsed": false
   },
   "outputs": [
    {
     "data": {
      "text/html": [
       "<div>\n",
       "<table border=\"1\" class=\"dataframe\">\n",
       "  <thead>\n",
       "    <tr style=\"text-align: right;\">\n",
       "      <th></th>\n",
       "      <th>Success</th>\n",
       "      <th>Company_Location</th>\n",
       "      <th>Company_raising_fund</th>\n",
       "      <th>Company_Industry_count</th>\n",
       "      <th>Company_mobile_app</th>\n",
       "      <th>Company_investor_count_seed</th>\n",
       "      <th>Company_investor_count_Angel_VC</th>\n",
       "      <th>Company_cofounders_count</th>\n",
       "      <th>Company_advisors_count</th>\n",
       "      <th>Company_senior_team_count</th>\n",
       "      <th>...</th>\n",
       "      <th>Company_analytics_score</th>\n",
       "      <th>Company_Product_or_service</th>\n",
       "      <th>Company_subscription_offering</th>\n",
       "      <th>Founder_highest_degree_type</th>\n",
       "      <th>Company_difficulty_obtaining_workforce</th>\n",
       "      <th>Company_Founder_Patent</th>\n",
       "      <th>Management</th>\n",
       "      <th>Other</th>\n",
       "      <th>Science</th>\n",
       "      <th>Technology</th>\n",
       "    </tr>\n",
       "  </thead>\n",
       "  <tbody>\n",
       "    <tr>\n",
       "      <th>0</th>\n",
       "      <td>1</td>\n",
       "      <td>0</td>\n",
       "      <td>1</td>\n",
       "      <td>0</td>\n",
       "      <td>0</td>\n",
       "      <td>5</td>\n",
       "      <td>0</td>\n",
       "      <td>2</td>\n",
       "      <td>0</td>\n",
       "      <td>4</td>\n",
       "      <td>...</td>\n",
       "      <td>2</td>\n",
       "      <td>0</td>\n",
       "      <td>1</td>\n",
       "      <td>Management</td>\n",
       "      <td>1</td>\n",
       "      <td>0</td>\n",
       "      <td>1</td>\n",
       "      <td>0</td>\n",
       "      <td>0</td>\n",
       "      <td>0</td>\n",
       "    </tr>\n",
       "    <tr>\n",
       "      <th>1</th>\n",
       "      <td>1</td>\n",
       "      <td>0</td>\n",
       "      <td>1</td>\n",
       "      <td>0</td>\n",
       "      <td>1</td>\n",
       "      <td>15</td>\n",
       "      <td>0</td>\n",
       "      <td>3</td>\n",
       "      <td>0</td>\n",
       "      <td>7</td>\n",
       "      <td>...</td>\n",
       "      <td>1</td>\n",
       "      <td>1</td>\n",
       "      <td>0</td>\n",
       "      <td>Science</td>\n",
       "      <td>1</td>\n",
       "      <td>0</td>\n",
       "      <td>0</td>\n",
       "      <td>0</td>\n",
       "      <td>1</td>\n",
       "      <td>0</td>\n",
       "    </tr>\n",
       "    <tr>\n",
       "      <th>2</th>\n",
       "      <td>1</td>\n",
       "      <td>0</td>\n",
       "      <td>1</td>\n",
       "      <td>0</td>\n",
       "      <td>1</td>\n",
       "      <td>7</td>\n",
       "      <td>0</td>\n",
       "      <td>1</td>\n",
       "      <td>1</td>\n",
       "      <td>8</td>\n",
       "      <td>...</td>\n",
       "      <td>0</td>\n",
       "      <td>0</td>\n",
       "      <td>1</td>\n",
       "      <td>Technology</td>\n",
       "      <td>1</td>\n",
       "      <td>0</td>\n",
       "      <td>0</td>\n",
       "      <td>0</td>\n",
       "      <td>0</td>\n",
       "      <td>1</td>\n",
       "    </tr>\n",
       "    <tr>\n",
       "      <th>3</th>\n",
       "      <td>1</td>\n",
       "      <td>0</td>\n",
       "      <td>1</td>\n",
       "      <td>0</td>\n",
       "      <td>1</td>\n",
       "      <td>2</td>\n",
       "      <td>0</td>\n",
       "      <td>4</td>\n",
       "      <td>0</td>\n",
       "      <td>4</td>\n",
       "      <td>...</td>\n",
       "      <td>0</td>\n",
       "      <td>1</td>\n",
       "      <td>1</td>\n",
       "      <td>Science</td>\n",
       "      <td>1</td>\n",
       "      <td>0</td>\n",
       "      <td>0</td>\n",
       "      <td>0</td>\n",
       "      <td>1</td>\n",
       "      <td>0</td>\n",
       "    </tr>\n",
       "    <tr>\n",
       "      <th>4</th>\n",
       "      <td>1</td>\n",
       "      <td>0</td>\n",
       "      <td>1</td>\n",
       "      <td>0</td>\n",
       "      <td>1</td>\n",
       "      <td>0</td>\n",
       "      <td>0</td>\n",
       "      <td>3</td>\n",
       "      <td>4</td>\n",
       "      <td>4</td>\n",
       "      <td>...</td>\n",
       "      <td>2</td>\n",
       "      <td>1</td>\n",
       "      <td>1</td>\n",
       "      <td>Management</td>\n",
       "      <td>1</td>\n",
       "      <td>1</td>\n",
       "      <td>1</td>\n",
       "      <td>0</td>\n",
       "      <td>0</td>\n",
       "      <td>0</td>\n",
       "    </tr>\n",
       "  </tbody>\n",
       "</table>\n",
       "<p>5 rows × 39 columns</p>\n",
       "</div>"
      ],
      "text/plain": [
       "   Success  Company_Location  Company_raising_fund  Company_Industry_count  \\\n",
       "0        1                 0                     1                       0   \n",
       "1        1                 0                     1                       0   \n",
       "2        1                 0                     1                       0   \n",
       "3        1                 0                     1                       0   \n",
       "4        1                 0                     1                       0   \n",
       "\n",
       "   Company_mobile_app  Company_investor_count_seed  \\\n",
       "0                   0                            5   \n",
       "1                   1                           15   \n",
       "2                   1                            7   \n",
       "3                   1                            2   \n",
       "4                   1                            0   \n",
       "\n",
       "   Company_investor_count_Angel_VC  Company_cofounders_count  \\\n",
       "0                                0                         2   \n",
       "1                                0                         3   \n",
       "2                                0                         1   \n",
       "3                                0                         4   \n",
       "4                                0                         3   \n",
       "\n",
       "   Company_advisors_count  Company_senior_team_count     ...      \\\n",
       "0                       0                          4     ...       \n",
       "1                       0                          7     ...       \n",
       "2                       1                          8     ...       \n",
       "3                       0                          4     ...       \n",
       "4                       4                          4     ...       \n",
       "\n",
       "   Company_analytics_score  Company_Product_or_service  \\\n",
       "0                        2                           0   \n",
       "1                        1                           1   \n",
       "2                        0                           0   \n",
       "3                        0                           1   \n",
       "4                        2                           1   \n",
       "\n",
       "   Company_subscription_offering  Founder_highest_degree_type  \\\n",
       "0                              1                   Management   \n",
       "1                              0                      Science   \n",
       "2                              1                   Technology   \n",
       "3                              1                      Science   \n",
       "4                              1                   Management   \n",
       "\n",
       "   Company_difficulty_obtaining_workforce  Company_Founder_Patent  Management  \\\n",
       "0                                       1                       0           1   \n",
       "1                                       1                       0           0   \n",
       "2                                       1                       0           0   \n",
       "3                                       1                       0           0   \n",
       "4                                       1                       1           1   \n",
       "\n",
       "   Other  Science  Technology  \n",
       "0      0        0           0  \n",
       "1      0        1           0  \n",
       "2      0        0           1  \n",
       "3      0        1           0  \n",
       "4      0        0           0  \n",
       "\n",
       "[5 rows x 39 columns]"
      ]
     },
     "execution_count": 120,
     "metadata": {},
     "output_type": "execute_result"
    }
   ],
   "source": [
    "data = data.join(degree)\n",
    "data.head()"
   ]
  },
  {
   "cell_type": "code",
   "execution_count": 122,
   "metadata": {
    "collapsed": false
   },
   "outputs": [
    {
     "data": {
      "text/html": [
       "<div>\n",
       "<table border=\"1\" class=\"dataframe\">\n",
       "  <thead>\n",
       "    <tr style=\"text-align: right;\">\n",
       "      <th></th>\n",
       "      <th>Success</th>\n",
       "      <th>Company_Location</th>\n",
       "      <th>Company_raising_fund</th>\n",
       "      <th>Company_Industry_count</th>\n",
       "      <th>Company_mobile_app</th>\n",
       "      <th>Company_investor_count_seed</th>\n",
       "      <th>Company_investor_count_Angel_VC</th>\n",
       "      <th>Company_cofounders_count</th>\n",
       "      <th>Company_advisors_count</th>\n",
       "      <th>Company_senior_team_count</th>\n",
       "      <th>...</th>\n",
       "      <th>Company_big_data</th>\n",
       "      <th>Company_analytics_score</th>\n",
       "      <th>Company_Product_or_service</th>\n",
       "      <th>Company_subscription_offering</th>\n",
       "      <th>Company_difficulty_obtaining_workforce</th>\n",
       "      <th>Company_Founder_Patent</th>\n",
       "      <th>Management</th>\n",
       "      <th>Other</th>\n",
       "      <th>Science</th>\n",
       "      <th>Technology</th>\n",
       "    </tr>\n",
       "  </thead>\n",
       "  <tbody>\n",
       "    <tr>\n",
       "      <th>0</th>\n",
       "      <td>1</td>\n",
       "      <td>0</td>\n",
       "      <td>1</td>\n",
       "      <td>0</td>\n",
       "      <td>0</td>\n",
       "      <td>5</td>\n",
       "      <td>0</td>\n",
       "      <td>2</td>\n",
       "      <td>0</td>\n",
       "      <td>4</td>\n",
       "      <td>...</td>\n",
       "      <td>1</td>\n",
       "      <td>2</td>\n",
       "      <td>0</td>\n",
       "      <td>1</td>\n",
       "      <td>1</td>\n",
       "      <td>0</td>\n",
       "      <td>1</td>\n",
       "      <td>0</td>\n",
       "      <td>0</td>\n",
       "      <td>0</td>\n",
       "    </tr>\n",
       "    <tr>\n",
       "      <th>1</th>\n",
       "      <td>1</td>\n",
       "      <td>0</td>\n",
       "      <td>1</td>\n",
       "      <td>0</td>\n",
       "      <td>1</td>\n",
       "      <td>15</td>\n",
       "      <td>0</td>\n",
       "      <td>3</td>\n",
       "      <td>0</td>\n",
       "      <td>7</td>\n",
       "      <td>...</td>\n",
       "      <td>1</td>\n",
       "      <td>1</td>\n",
       "      <td>1</td>\n",
       "      <td>0</td>\n",
       "      <td>1</td>\n",
       "      <td>0</td>\n",
       "      <td>0</td>\n",
       "      <td>0</td>\n",
       "      <td>1</td>\n",
       "      <td>0</td>\n",
       "    </tr>\n",
       "    <tr>\n",
       "      <th>2</th>\n",
       "      <td>1</td>\n",
       "      <td>0</td>\n",
       "      <td>1</td>\n",
       "      <td>0</td>\n",
       "      <td>1</td>\n",
       "      <td>7</td>\n",
       "      <td>0</td>\n",
       "      <td>1</td>\n",
       "      <td>1</td>\n",
       "      <td>8</td>\n",
       "      <td>...</td>\n",
       "      <td>1</td>\n",
       "      <td>0</td>\n",
       "      <td>0</td>\n",
       "      <td>1</td>\n",
       "      <td>1</td>\n",
       "      <td>0</td>\n",
       "      <td>0</td>\n",
       "      <td>0</td>\n",
       "      <td>0</td>\n",
       "      <td>1</td>\n",
       "    </tr>\n",
       "    <tr>\n",
       "      <th>3</th>\n",
       "      <td>1</td>\n",
       "      <td>0</td>\n",
       "      <td>1</td>\n",
       "      <td>0</td>\n",
       "      <td>1</td>\n",
       "      <td>2</td>\n",
       "      <td>0</td>\n",
       "      <td>4</td>\n",
       "      <td>0</td>\n",
       "      <td>4</td>\n",
       "      <td>...</td>\n",
       "      <td>1</td>\n",
       "      <td>0</td>\n",
       "      <td>1</td>\n",
       "      <td>1</td>\n",
       "      <td>1</td>\n",
       "      <td>0</td>\n",
       "      <td>0</td>\n",
       "      <td>0</td>\n",
       "      <td>1</td>\n",
       "      <td>0</td>\n",
       "    </tr>\n",
       "    <tr>\n",
       "      <th>4</th>\n",
       "      <td>1</td>\n",
       "      <td>0</td>\n",
       "      <td>1</td>\n",
       "      <td>0</td>\n",
       "      <td>1</td>\n",
       "      <td>0</td>\n",
       "      <td>0</td>\n",
       "      <td>3</td>\n",
       "      <td>4</td>\n",
       "      <td>4</td>\n",
       "      <td>...</td>\n",
       "      <td>1</td>\n",
       "      <td>2</td>\n",
       "      <td>1</td>\n",
       "      <td>1</td>\n",
       "      <td>1</td>\n",
       "      <td>1</td>\n",
       "      <td>1</td>\n",
       "      <td>0</td>\n",
       "      <td>0</td>\n",
       "      <td>0</td>\n",
       "    </tr>\n",
       "  </tbody>\n",
       "</table>\n",
       "<p>5 rows × 38 columns</p>\n",
       "</div>"
      ],
      "text/plain": [
       "   Success  Company_Location  Company_raising_fund  Company_Industry_count  \\\n",
       "0        1                 0                     1                       0   \n",
       "1        1                 0                     1                       0   \n",
       "2        1                 0                     1                       0   \n",
       "3        1                 0                     1                       0   \n",
       "4        1                 0                     1                       0   \n",
       "\n",
       "   Company_mobile_app  Company_investor_count_seed  \\\n",
       "0                   0                            5   \n",
       "1                   1                           15   \n",
       "2                   1                            7   \n",
       "3                   1                            2   \n",
       "4                   1                            0   \n",
       "\n",
       "   Company_investor_count_Angel_VC  Company_cofounders_count  \\\n",
       "0                                0                         2   \n",
       "1                                0                         3   \n",
       "2                                0                         1   \n",
       "3                                0                         4   \n",
       "4                                0                         3   \n",
       "\n",
       "   Company_advisors_count  Company_senior_team_count     ...      \\\n",
       "0                       0                          4     ...       \n",
       "1                       0                          7     ...       \n",
       "2                       1                          8     ...       \n",
       "3                       0                          4     ...       \n",
       "4                       4                          4     ...       \n",
       "\n",
       "   Company_big_data  Company_analytics_score  Company_Product_or_service  \\\n",
       "0                 1                        2                           0   \n",
       "1                 1                        1                           1   \n",
       "2                 1                        0                           0   \n",
       "3                 1                        0                           1   \n",
       "4                 1                        2                           1   \n",
       "\n",
       "   Company_subscription_offering  Company_difficulty_obtaining_workforce  \\\n",
       "0                              1                                       1   \n",
       "1                              0                                       1   \n",
       "2                              1                                       1   \n",
       "3                              1                                       1   \n",
       "4                              1                                       1   \n",
       "\n",
       "   Company_Founder_Patent  Management  Other  Science  Technology  \n",
       "0                       0           1      0        0           0  \n",
       "1                       0           0      0        1           0  \n",
       "2                       0           0      0        0           1  \n",
       "3                       0           0      0        1           0  \n",
       "4                       1           1      0        0           0  \n",
       "\n",
       "[5 rows x 38 columns]"
      ]
     },
     "execution_count": 122,
     "metadata": {},
     "output_type": "execute_result"
    }
   ],
   "source": [
    "data = data.drop([\"Founder_highest_degree_type\"],axis=1)\n",
    "data.head()"
   ]
  },
  {
   "cell_type": "code",
   "execution_count": 123,
   "metadata": {
    "collapsed": false
   },
   "outputs": [
    {
     "data": {
      "text/plain": [
       "Success                                     int64\n",
       "Company_Location                             int8\n",
       "Company_raising_fund                         int8\n",
       "Company_Industry_count                       int8\n",
       "Company_mobile_app                           int8\n",
       "Company_investor_count_seed                 int64\n",
       "Company_investor_count_Angel_VC             int64\n",
       "Company_cofounders_count                    int64\n",
       "Company_advisors_count                      int64\n",
       "Company_senior_team_count                   int64\n",
       "Company_top_Angel_VC_funding                 int8\n",
       "Company_repeat_investors_count              int64\n",
       "Founders_experience                          int8\n",
       "Founders_global_exposure                     int8\n",
       "Founders_Industry_exposure                   int8\n",
       "Founder_education                            int8\n",
       "Founder_university_quality                  int64\n",
       "Founders_Popularity                         int64\n",
       "Founders_fortune1000_company_score        float64\n",
       "Founders_profile_similarity                  int8\n",
       "Founders_publications                        int8\n",
       "Founders_skills_score                     float64\n",
       "Company_incubation_investor                  int8\n",
       "Company_competitor_count                    int64\n",
       "Company_1st_investment_time                 int64\n",
       "Company_avg_investment_time               float64\n",
       "Company_crowdsourcing                        int8\n",
       "Company_crowdfunding                         int8\n",
       "Company_big_data                             int8\n",
       "Company_analytics_score                     int64\n",
       "Company_Product_or_service                   int8\n",
       "Company_subscription_offering                int8\n",
       "Company_difficulty_obtaining_workforce       int8\n",
       "Company_Founder_Patent                       int8\n",
       "Management                                  uint8\n",
       "Other                                       uint8\n",
       "Science                                     uint8\n",
       "Technology                                  uint8\n",
       "dtype: object"
      ]
     },
     "execution_count": 123,
     "metadata": {},
     "output_type": "execute_result"
    }
   ],
   "source": [
    "data.dtypes"
   ]
  },
  {
   "cell_type": "code",
   "execution_count": 125,
   "metadata": {
    "collapsed": false
   },
   "outputs": [
    {
     "data": {
      "text/plain": [
       "0    50.42735\n",
       "1    49.57265\n",
       "Name: Success, dtype: float64"
      ]
     },
     "execution_count": 125,
     "metadata": {},
     "output_type": "execute_result"
    }
   ],
   "source": [
    "data[\"Success\"].value_counts()/len(data)*100"
   ]
  },
  {
   "cell_type": "code",
   "execution_count": 126,
   "metadata": {
    "collapsed": true
   },
   "outputs": [],
   "source": [
    "from sklearn.tree import DecisionTreeClassifier"
   ]
  },
  {
   "cell_type": "code",
   "execution_count": 127,
   "metadata": {
    "collapsed": true
   },
   "outputs": [],
   "source": [
    "model = DecisionTreeClassifier(random_state=47)"
   ]
  },
  {
   "cell_type": "code",
   "execution_count": 129,
   "metadata": {
    "collapsed": true
   },
   "outputs": [],
   "source": [
    "inputs = data.iloc[:,1:]\n",
    "output = data[\"Success\"]"
   ]
  },
  {
   "cell_type": "code",
   "execution_count": 130,
   "metadata": {
    "collapsed": false
   },
   "outputs": [
    {
     "data": {
      "text/plain": [
       "DecisionTreeClassifier(class_weight=None, criterion='gini', max_depth=None,\n",
       "            max_features=None, max_leaf_nodes=None,\n",
       "            min_impurity_split=1e-07, min_samples_leaf=1,\n",
       "            min_samples_split=2, min_weight_fraction_leaf=0.0,\n",
       "            presort=False, random_state=47, splitter='best')"
      ]
     },
     "execution_count": 130,
     "metadata": {},
     "output_type": "execute_result"
    }
   ],
   "source": [
    "model.fit(inputs,output)"
   ]
  },
  {
   "cell_type": "code",
   "execution_count": 131,
   "metadata": {
    "collapsed": false
   },
   "outputs": [
    {
     "data": {
      "text/plain": [
       "100.0"
      ]
     },
     "execution_count": 131,
     "metadata": {},
     "output_type": "execute_result"
    }
   ],
   "source": [
    "model.score(inputs,output)*100"
   ]
  },
  {
   "cell_type": "code",
   "execution_count": 132,
   "metadata": {
    "collapsed": true
   },
   "outputs": [],
   "source": [
    "train, test = train_test_split(data,test_size=0.3) "
   ]
  },
  {
   "cell_type": "code",
   "execution_count": 133,
   "metadata": {
    "collapsed": false
   },
   "outputs": [
    {
     "data": {
      "text/plain": [
       "71"
      ]
     },
     "execution_count": 133,
     "metadata": {},
     "output_type": "execute_result"
    }
   ],
   "source": [
    "len(test)"
   ]
  },
  {
   "cell_type": "code",
   "execution_count": 134,
   "metadata": {
    "collapsed": true
   },
   "outputs": [],
   "source": [
    "train, test = train_test_split(data,train_size=0.7)"
   ]
  },
  {
   "cell_type": "code",
   "execution_count": 135,
   "metadata": {
    "collapsed": false
   },
   "outputs": [
    {
     "data": {
      "text/plain": [
       "163"
      ]
     },
     "execution_count": 135,
     "metadata": {},
     "output_type": "execute_result"
    }
   ],
   "source": [
    "len(train)"
   ]
  },
  {
   "cell_type": "code",
   "execution_count": 136,
   "metadata": {
    "collapsed": true
   },
   "outputs": [],
   "source": [
    "model_x = DecisionTreeClassifier(max_depth=5, random_state=50)"
   ]
  },
  {
   "cell_type": "code",
   "execution_count": 137,
   "metadata": {
    "collapsed": true
   },
   "outputs": [],
   "source": [
    "inputs_train,inputs_test,output_train,output_test = train_test_split(inputs,output,train_size=0.7)"
   ]
  },
  {
   "cell_type": "code",
   "execution_count": 138,
   "metadata": {
    "collapsed": false
   },
   "outputs": [
    {
     "data": {
      "text/plain": [
       "64.788732394366207"
      ]
     },
     "execution_count": 138,
     "metadata": {},
     "output_type": "execute_result"
    }
   ],
   "source": [
    "model_x.fit(inputs_train,output_train)\n",
    "model_x.score(inputs_test,output_test)*100"
   ]
  },
  {
   "cell_type": "code",
   "execution_count": 139,
   "metadata": {
    "collapsed": false
   },
   "outputs": [
    {
     "data": {
      "text/html": [
       "<div>\n",
       "<table border=\"1\" class=\"dataframe\">\n",
       "  <thead>\n",
       "    <tr style=\"text-align: right;\">\n",
       "      <th></th>\n",
       "      <th>0</th>\n",
       "    </tr>\n",
       "  </thead>\n",
       "  <tbody>\n",
       "    <tr>\n",
       "      <th>Company_Location</th>\n",
       "      <td>0.000000</td>\n",
       "    </tr>\n",
       "    <tr>\n",
       "      <th>Company_raising_fund</th>\n",
       "      <td>0.014246</td>\n",
       "    </tr>\n",
       "    <tr>\n",
       "      <th>Company_Industry_count</th>\n",
       "      <td>0.019944</td>\n",
       "    </tr>\n",
       "    <tr>\n",
       "      <th>Company_mobile_app</th>\n",
       "      <td>0.000000</td>\n",
       "    </tr>\n",
       "    <tr>\n",
       "      <th>Company_investor_count_seed</th>\n",
       "      <td>0.071037</td>\n",
       "    </tr>\n",
       "    <tr>\n",
       "      <th>Company_investor_count_Angel_VC</th>\n",
       "      <td>0.028333</td>\n",
       "    </tr>\n",
       "    <tr>\n",
       "      <th>Company_cofounders_count</th>\n",
       "      <td>0.052399</td>\n",
       "    </tr>\n",
       "    <tr>\n",
       "      <th>Company_advisors_count</th>\n",
       "      <td>0.000000</td>\n",
       "    </tr>\n",
       "    <tr>\n",
       "      <th>Company_senior_team_count</th>\n",
       "      <td>0.109279</td>\n",
       "    </tr>\n",
       "    <tr>\n",
       "      <th>Company_top_Angel_VC_funding</th>\n",
       "      <td>0.000000</td>\n",
       "    </tr>\n",
       "    <tr>\n",
       "      <th>Company_repeat_investors_count</th>\n",
       "      <td>0.067110</td>\n",
       "    </tr>\n",
       "    <tr>\n",
       "      <th>Founders_experience</th>\n",
       "      <td>0.000000</td>\n",
       "    </tr>\n",
       "    <tr>\n",
       "      <th>Founders_global_exposure</th>\n",
       "      <td>0.015386</td>\n",
       "    </tr>\n",
       "    <tr>\n",
       "      <th>Founders_Industry_exposure</th>\n",
       "      <td>0.000000</td>\n",
       "    </tr>\n",
       "    <tr>\n",
       "      <th>Founder_education</th>\n",
       "      <td>0.014246</td>\n",
       "    </tr>\n",
       "    <tr>\n",
       "      <th>Founder_university_quality</th>\n",
       "      <td>0.006411</td>\n",
       "    </tr>\n",
       "    <tr>\n",
       "      <th>Founders_Popularity</th>\n",
       "      <td>0.000000</td>\n",
       "    </tr>\n",
       "    <tr>\n",
       "      <th>Founders_fortune1000_company_score</th>\n",
       "      <td>0.044366</td>\n",
       "    </tr>\n",
       "    <tr>\n",
       "      <th>Founders_profile_similarity</th>\n",
       "      <td>0.000000</td>\n",
       "    </tr>\n",
       "    <tr>\n",
       "      <th>Founders_publications</th>\n",
       "      <td>0.013025</td>\n",
       "    </tr>\n",
       "    <tr>\n",
       "      <th>Founders_skills_score</th>\n",
       "      <td>0.100608</td>\n",
       "    </tr>\n",
       "    <tr>\n",
       "      <th>Company_incubation_investor</th>\n",
       "      <td>0.000000</td>\n",
       "    </tr>\n",
       "    <tr>\n",
       "      <th>Company_competitor_count</th>\n",
       "      <td>0.107381</td>\n",
       "    </tr>\n",
       "    <tr>\n",
       "      <th>Company_1st_investment_time</th>\n",
       "      <td>0.024672</td>\n",
       "    </tr>\n",
       "    <tr>\n",
       "      <th>Company_avg_investment_time</th>\n",
       "      <td>0.148191</td>\n",
       "    </tr>\n",
       "    <tr>\n",
       "      <th>Company_crowdsourcing</th>\n",
       "      <td>0.000000</td>\n",
       "    </tr>\n",
       "    <tr>\n",
       "      <th>Company_crowdfunding</th>\n",
       "      <td>0.000000</td>\n",
       "    </tr>\n",
       "    <tr>\n",
       "      <th>Company_big_data</th>\n",
       "      <td>0.000000</td>\n",
       "    </tr>\n",
       "    <tr>\n",
       "      <th>Company_analytics_score</th>\n",
       "      <td>0.070533</td>\n",
       "    </tr>\n",
       "    <tr>\n",
       "      <th>Company_Product_or_service</th>\n",
       "      <td>0.028749</td>\n",
       "    </tr>\n",
       "    <tr>\n",
       "      <th>Company_subscription_offering</th>\n",
       "      <td>0.000000</td>\n",
       "    </tr>\n",
       "    <tr>\n",
       "      <th>Company_difficulty_obtaining_workforce</th>\n",
       "      <td>0.000000</td>\n",
       "    </tr>\n",
       "    <tr>\n",
       "      <th>Company_Founder_Patent</th>\n",
       "      <td>0.000000</td>\n",
       "    </tr>\n",
       "    <tr>\n",
       "      <th>Management</th>\n",
       "      <td>0.011397</td>\n",
       "    </tr>\n",
       "    <tr>\n",
       "      <th>Other</th>\n",
       "      <td>0.013568</td>\n",
       "    </tr>\n",
       "    <tr>\n",
       "      <th>Science</th>\n",
       "      <td>0.031321</td>\n",
       "    </tr>\n",
       "    <tr>\n",
       "      <th>Technology</th>\n",
       "      <td>0.007798</td>\n",
       "    </tr>\n",
       "  </tbody>\n",
       "</table>\n",
       "</div>"
      ],
      "text/plain": [
       "                                               0\n",
       "Company_Location                        0.000000\n",
       "Company_raising_fund                    0.014246\n",
       "Company_Industry_count                  0.019944\n",
       "Company_mobile_app                      0.000000\n",
       "Company_investor_count_seed             0.071037\n",
       "Company_investor_count_Angel_VC         0.028333\n",
       "Company_cofounders_count                0.052399\n",
       "Company_advisors_count                  0.000000\n",
       "Company_senior_team_count               0.109279\n",
       "Company_top_Angel_VC_funding            0.000000\n",
       "Company_repeat_investors_count          0.067110\n",
       "Founders_experience                     0.000000\n",
       "Founders_global_exposure                0.015386\n",
       "Founders_Industry_exposure              0.000000\n",
       "Founder_education                       0.014246\n",
       "Founder_university_quality              0.006411\n",
       "Founders_Popularity                     0.000000\n",
       "Founders_fortune1000_company_score      0.044366\n",
       "Founders_profile_similarity             0.000000\n",
       "Founders_publications                   0.013025\n",
       "Founders_skills_score                   0.100608\n",
       "Company_incubation_investor             0.000000\n",
       "Company_competitor_count                0.107381\n",
       "Company_1st_investment_time             0.024672\n",
       "Company_avg_investment_time             0.148191\n",
       "Company_crowdsourcing                   0.000000\n",
       "Company_crowdfunding                    0.000000\n",
       "Company_big_data                        0.000000\n",
       "Company_analytics_score                 0.070533\n",
       "Company_Product_or_service              0.028749\n",
       "Company_subscription_offering           0.000000\n",
       "Company_difficulty_obtaining_workforce  0.000000\n",
       "Company_Founder_Patent                  0.000000\n",
       "Management                              0.011397\n",
       "Other                                   0.013568\n",
       "Science                                 0.031321\n",
       "Technology                              0.007798"
      ]
     },
     "execution_count": 139,
     "metadata": {},
     "output_type": "execute_result"
    }
   ],
   "source": [
    "df = pd.DataFrame(index=list(data)[1:],data=model.feature_importances_)\n",
    "df"
   ]
  },
  {
   "cell_type": "markdown",
   "metadata": {},
   "source": [
    "We can see that the most important factor is Company_avg_investment_time, another important feature that has influence on success is Company_competitor_count ... "
   ]
  }
 ],
 "metadata": {
  "kernelspec": {
   "display_name": "Python 2",
   "language": "python",
   "name": "python2"
  },
  "language_info": {
   "codemirror_mode": {
    "name": "ipython",
    "version": 2
   },
   "file_extension": ".py",
   "mimetype": "text/x-python",
   "name": "python",
   "nbconvert_exporter": "python",
   "pygments_lexer": "ipython2",
   "version": "2.7.13"
  }
 },
 "nbformat": 4,
 "nbformat_minor": 2
}
