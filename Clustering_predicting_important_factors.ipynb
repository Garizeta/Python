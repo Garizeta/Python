{
 "cells": [
  {
   "cell_type": "code",
   "execution_count": 34,
   "metadata": {
    "collapsed": true
   },
   "outputs": [],
   "source": [
    "import pandas as pd"
   ]
  },
  {
   "cell_type": "code",
   "execution_count": 35,
   "metadata": {
    "collapsed": false
   },
   "outputs": [],
   "source": [
    "data = pd.read_excel(\"ab.xlsx\")"
   ]
  },
  {
   "cell_type": "code",
   "execution_count": 36,
   "metadata": {
    "collapsed": false
   },
   "outputs": [
    {
     "data": {
      "text/html": [
       "<div>\n",
       "<table border=\"1\" class=\"dataframe\">\n",
       "  <thead>\n",
       "    <tr style=\"text-align: right;\">\n",
       "      <th></th>\n",
       "      <th>Founders_Entrepreneurship_skills_score</th>\n",
       "      <th>Founders_Operations_skills_score</th>\n",
       "      <th>Founders_Engineering_skills_score</th>\n",
       "      <th>Founders_Marketing_skills_score</th>\n",
       "      <th>Founders_Leadership_skills_score</th>\n",
       "      <th>Founders_Data_Science_skills_score</th>\n",
       "      <th>Founders_Business_Strategy_skills_score</th>\n",
       "      <th>Founders_Product_Management_skills_score</th>\n",
       "      <th>Founders_Sales_skills_score</th>\n",
       "      <th>Founders_Domain_skills_score</th>\n",
       "    </tr>\n",
       "  </thead>\n",
       "  <tbody>\n",
       "    <tr>\n",
       "      <th>0</th>\n",
       "      <td>15.882353</td>\n",
       "      <td>11.764706</td>\n",
       "      <td>15.000000</td>\n",
       "      <td>12.941176</td>\n",
       "      <td>0.000</td>\n",
       "      <td>8.823529</td>\n",
       "      <td>21.764706</td>\n",
       "      <td>10.882353</td>\n",
       "      <td>2.941176</td>\n",
       "      <td>0.000000</td>\n",
       "    </tr>\n",
       "    <tr>\n",
       "      <th>1</th>\n",
       "      <td>9.401709</td>\n",
       "      <td>0.000000</td>\n",
       "      <td>57.478632</td>\n",
       "      <td>0.000000</td>\n",
       "      <td>0.000</td>\n",
       "      <td>3.846154</td>\n",
       "      <td>17.094017</td>\n",
       "      <td>9.401709</td>\n",
       "      <td>0.000000</td>\n",
       "      <td>2.777778</td>\n",
       "    </tr>\n",
       "    <tr>\n",
       "      <th>2</th>\n",
       "      <td>0.000000</td>\n",
       "      <td>0.000000</td>\n",
       "      <td>0.000000</td>\n",
       "      <td>0.000000</td>\n",
       "      <td>0.000</td>\n",
       "      <td>0.000000</td>\n",
       "      <td>0.000000</td>\n",
       "      <td>0.000000</td>\n",
       "      <td>0.000000</td>\n",
       "      <td>0.000000</td>\n",
       "    </tr>\n",
       "    <tr>\n",
       "      <th>3</th>\n",
       "      <td>6.250000</td>\n",
       "      <td>0.000000</td>\n",
       "      <td>3.125000</td>\n",
       "      <td>15.625000</td>\n",
       "      <td>9.375</td>\n",
       "      <td>3.125000</td>\n",
       "      <td>6.250000</td>\n",
       "      <td>3.125000</td>\n",
       "      <td>3.125000</td>\n",
       "      <td>0.000000</td>\n",
       "    </tr>\n",
       "    <tr>\n",
       "      <th>4</th>\n",
       "      <td>0.000000</td>\n",
       "      <td>0.000000</td>\n",
       "      <td>10.112045</td>\n",
       "      <td>0.000000</td>\n",
       "      <td>0.000</td>\n",
       "      <td>0.000000</td>\n",
       "      <td>0.000000</td>\n",
       "      <td>0.000000</td>\n",
       "      <td>0.000000</td>\n",
       "      <td>0.000000</td>\n",
       "    </tr>\n",
       "  </tbody>\n",
       "</table>\n",
       "</div>"
      ],
      "text/plain": [
       "   Founders_Entrepreneurship_skills_score  Founders_Operations_skills_score  \\\n",
       "0                               15.882353                         11.764706   \n",
       "1                                9.401709                          0.000000   \n",
       "2                                0.000000                          0.000000   \n",
       "3                                6.250000                          0.000000   \n",
       "4                                0.000000                          0.000000   \n",
       "\n",
       "   Founders_Engineering_skills_score  Founders_Marketing_skills_score  \\\n",
       "0                          15.000000                        12.941176   \n",
       "1                          57.478632                         0.000000   \n",
       "2                           0.000000                         0.000000   \n",
       "3                           3.125000                        15.625000   \n",
       "4                          10.112045                         0.000000   \n",
       "\n",
       "   Founders_Leadership_skills_score  Founders_Data_Science_skills_score  \\\n",
       "0                             0.000                            8.823529   \n",
       "1                             0.000                            3.846154   \n",
       "2                             0.000                            0.000000   \n",
       "3                             9.375                            3.125000   \n",
       "4                             0.000                            0.000000   \n",
       "\n",
       "   Founders_Business_Strategy_skills_score  \\\n",
       "0                                21.764706   \n",
       "1                                17.094017   \n",
       "2                                 0.000000   \n",
       "3                                 6.250000   \n",
       "4                                 0.000000   \n",
       "\n",
       "   Founders_Product_Management_skills_score  Founders_Sales_skills_score  \\\n",
       "0                                 10.882353                     2.941176   \n",
       "1                                  9.401709                     0.000000   \n",
       "2                                  0.000000                     0.000000   \n",
       "3                                  3.125000                     3.125000   \n",
       "4                                  0.000000                     0.000000   \n",
       "\n",
       "   Founders_Domain_skills_score  \n",
       "0                      0.000000  \n",
       "1                      2.777778  \n",
       "2                      0.000000  \n",
       "3                      0.000000  \n",
       "4                      0.000000  "
      ]
     },
     "execution_count": 36,
     "metadata": {},
     "output_type": "execute_result"
    }
   ],
   "source": [
    "data.head()"
   ]
  },
  {
   "cell_type": "code",
   "execution_count": 37,
   "metadata": {
    "collapsed": true
   },
   "outputs": [],
   "source": [
    "from sklearn.cluster import KMeans"
   ]
  },
  {
   "cell_type": "code",
   "execution_count": 38,
   "metadata": {
    "collapsed": true
   },
   "outputs": [],
   "source": [
    "cluster = KMeans(5)"
   ]
  },
  {
   "cell_type": "code",
   "execution_count": 39,
   "metadata": {
    "collapsed": false
   },
   "outputs": [],
   "source": [
    "inputs = data.iloc[:,1:]"
   ]
  },
  {
   "cell_type": "code",
   "execution_count": 40,
   "metadata": {
    "collapsed": true
   },
   "outputs": [],
   "source": [
    "data[\"cluster\"] = cluster.fit_predict(inputs)"
   ]
  },
  {
   "cell_type": "code",
   "execution_count": 45,
   "metadata": {
    "collapsed": false
   },
   "outputs": [
    {
     "data": {
      "text/html": [
       "<div>\n",
       "<table border=\"1\" class=\"dataframe\">\n",
       "  <thead>\n",
       "    <tr style=\"text-align: right;\">\n",
       "      <th></th>\n",
       "      <th>Founders_Entrepreneurship_skills_score</th>\n",
       "      <th>Founders_Operations_skills_score</th>\n",
       "      <th>Founders_Engineering_skills_score</th>\n",
       "      <th>Founders_Marketing_skills_score</th>\n",
       "      <th>Founders_Leadership_skills_score</th>\n",
       "      <th>Founders_Data_Science_skills_score</th>\n",
       "      <th>Founders_Business_Strategy_skills_score</th>\n",
       "      <th>Founders_Product_Management_skills_score</th>\n",
       "      <th>Founders_Sales_skills_score</th>\n",
       "      <th>Founders_Domain_skills_score</th>\n",
       "      <th>cluster</th>\n",
       "    </tr>\n",
       "  </thead>\n",
       "  <tbody>\n",
       "    <tr>\n",
       "      <th>0</th>\n",
       "      <td>15.882353</td>\n",
       "      <td>11.764706</td>\n",
       "      <td>15.000000</td>\n",
       "      <td>12.941176</td>\n",
       "      <td>0.000</td>\n",
       "      <td>8.823529</td>\n",
       "      <td>21.764706</td>\n",
       "      <td>10.882353</td>\n",
       "      <td>2.941176</td>\n",
       "      <td>0.000000</td>\n",
       "      <td>4</td>\n",
       "    </tr>\n",
       "    <tr>\n",
       "      <th>1</th>\n",
       "      <td>9.401709</td>\n",
       "      <td>0.000000</td>\n",
       "      <td>57.478632</td>\n",
       "      <td>0.000000</td>\n",
       "      <td>0.000</td>\n",
       "      <td>3.846154</td>\n",
       "      <td>17.094017</td>\n",
       "      <td>9.401709</td>\n",
       "      <td>0.000000</td>\n",
       "      <td>2.777778</td>\n",
       "      <td>2</td>\n",
       "    </tr>\n",
       "    <tr>\n",
       "      <th>2</th>\n",
       "      <td>0.000000</td>\n",
       "      <td>0.000000</td>\n",
       "      <td>0.000000</td>\n",
       "      <td>0.000000</td>\n",
       "      <td>0.000</td>\n",
       "      <td>0.000000</td>\n",
       "      <td>0.000000</td>\n",
       "      <td>0.000000</td>\n",
       "      <td>0.000000</td>\n",
       "      <td>0.000000</td>\n",
       "      <td>0</td>\n",
       "    </tr>\n",
       "    <tr>\n",
       "      <th>3</th>\n",
       "      <td>6.250000</td>\n",
       "      <td>0.000000</td>\n",
       "      <td>3.125000</td>\n",
       "      <td>15.625000</td>\n",
       "      <td>9.375</td>\n",
       "      <td>3.125000</td>\n",
       "      <td>6.250000</td>\n",
       "      <td>3.125000</td>\n",
       "      <td>3.125000</td>\n",
       "      <td>0.000000</td>\n",
       "      <td>0</td>\n",
       "    </tr>\n",
       "    <tr>\n",
       "      <th>4</th>\n",
       "      <td>0.000000</td>\n",
       "      <td>0.000000</td>\n",
       "      <td>10.112045</td>\n",
       "      <td>0.000000</td>\n",
       "      <td>0.000</td>\n",
       "      <td>0.000000</td>\n",
       "      <td>0.000000</td>\n",
       "      <td>0.000000</td>\n",
       "      <td>0.000000</td>\n",
       "      <td>0.000000</td>\n",
       "      <td>0</td>\n",
       "    </tr>\n",
       "  </tbody>\n",
       "</table>\n",
       "</div>"
      ],
      "text/plain": [
       "   Founders_Entrepreneurship_skills_score  Founders_Operations_skills_score  \\\n",
       "0                               15.882353                         11.764706   \n",
       "1                                9.401709                          0.000000   \n",
       "2                                0.000000                          0.000000   \n",
       "3                                6.250000                          0.000000   \n",
       "4                                0.000000                          0.000000   \n",
       "\n",
       "   Founders_Engineering_skills_score  Founders_Marketing_skills_score  \\\n",
       "0                          15.000000                        12.941176   \n",
       "1                          57.478632                         0.000000   \n",
       "2                           0.000000                         0.000000   \n",
       "3                           3.125000                        15.625000   \n",
       "4                          10.112045                         0.000000   \n",
       "\n",
       "   Founders_Leadership_skills_score  Founders_Data_Science_skills_score  \\\n",
       "0                             0.000                            8.823529   \n",
       "1                             0.000                            3.846154   \n",
       "2                             0.000                            0.000000   \n",
       "3                             9.375                            3.125000   \n",
       "4                             0.000                            0.000000   \n",
       "\n",
       "   Founders_Business_Strategy_skills_score  \\\n",
       "0                                21.764706   \n",
       "1                                17.094017   \n",
       "2                                 0.000000   \n",
       "3                                 6.250000   \n",
       "4                                 0.000000   \n",
       "\n",
       "   Founders_Product_Management_skills_score  Founders_Sales_skills_score  \\\n",
       "0                                 10.882353                     2.941176   \n",
       "1                                  9.401709                     0.000000   \n",
       "2                                  0.000000                     0.000000   \n",
       "3                                  3.125000                     3.125000   \n",
       "4                                  0.000000                     0.000000   \n",
       "\n",
       "   Founders_Domain_skills_score  cluster  \n",
       "0                      0.000000        4  \n",
       "1                      2.777778        2  \n",
       "2                      0.000000        0  \n",
       "3                      0.000000        0  \n",
       "4                      0.000000        0  "
      ]
     },
     "execution_count": 45,
     "metadata": {},
     "output_type": "execute_result"
    }
   ],
   "source": [
    "data.head()"
   ]
  },
  {
   "cell_type": "code",
   "execution_count": 46,
   "metadata": {
    "collapsed": true
   },
   "outputs": [],
   "source": [
    "coef_df=pd.DataFrame(columns=range(33))"
   ]
  },
  {
   "cell_type": "code",
   "execution_count": 47,
   "metadata": {
    "collapsed": false
   },
   "outputs": [
    {
     "data": {
      "text/plain": [
       "0    69\n",
       "4    65\n",
       "1    49\n",
       "3    30\n",
       "2    21\n",
       "Name: cluster, dtype: int64"
      ]
     },
     "execution_count": 47,
     "metadata": {},
     "output_type": "execute_result"
    }
   ],
   "source": [
    "data[\"cluster\"].value_counts()"
   ]
  },
  {
   "cell_type": "code",
   "execution_count": 52,
   "metadata": {
    "collapsed": false
   },
   "outputs": [
    {
     "ename": "NameError",
     "evalue": "name 'ClustGar' is not defined",
     "output_type": "error",
     "traceback": [
      "\u001b[0;31m---------------------------------------------------------------------------\u001b[0m",
      "\u001b[0;31mNameError\u001b[0m                                 Traceback (most recent call last)",
      "\u001b[0;32m<ipython-input-52-055a9e85b9c7>\u001b[0m in \u001b[0;36m<module>\u001b[0;34m()\u001b[0m\n\u001b[0;32m----> 1\u001b[0;31m \u001b[0mdata\u001b[0m\u001b[1;33m.\u001b[0m\u001b[0mto_excel\u001b[0m\u001b[1;33m(\u001b[0m\u001b[0mClustGar\u001b[0m\u001b[1;33m.\u001b[0m\u001b[0mxlsx\u001b[0m\u001b[1;33m)\u001b[0m\u001b[1;33m\u001b[0m\u001b[0m\n\u001b[0m",
      "\u001b[0;31mNameError\u001b[0m: name 'ClustGar' is not defined"
     ]
    }
   ],
   "source": [
    "data.to_excel(ClustGar.xlsx)"
   ]
  },
  {
   "cell_type": "code",
   "execution_count": null,
   "metadata": {
    "collapsed": true
   },
   "outputs": [],
   "source": []
  }
 ],
 "metadata": {
  "kernelspec": {
   "display_name": "Python 2",
   "language": "python",
   "name": "python2"
  },
  "language_info": {
   "codemirror_mode": {
    "name": "ipython",
    "version": 2
   },
   "file_extension": ".py",
   "mimetype": "text/x-python",
   "name": "python",
   "nbconvert_exporter": "python",
   "pygments_lexer": "ipython2",
   "version": "2.7.13"
  }
 },
 "nbformat": 4,
 "nbformat_minor": 2
}
